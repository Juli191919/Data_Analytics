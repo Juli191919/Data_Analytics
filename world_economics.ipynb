{
 "cells": [
  {
   "cell_type": "markdown",
   "id": "9e734d99-e285-4eb8-8acf-9fd8d9da3cc0",
   "metadata": {},
   "source": [
    "## 简介"
   ]
  },
  {
   "cell_type": "markdown",
   "id": "be7c4a47-3ffa-409f-a3ca-0ab61e4b399b",
   "metadata": {},
   "source": [
    "数据集`world_economics.csv`记录了超过一百七十个国家的经济和地理数据，包括经度、维度、面积、地区、人口、政府预算、GDP，等等。"
   ]
  },
  {
   "cell_type": "markdown",
   "id": "2cffed0b-19eb-4562-91fc-620963a6d34b",
   "metadata": {},
   "source": [
    "`world_economics.csv`每列的含义如下：\n",
    "- name：国家或地区名称\n",
    "- currency：国家或地区流通的货币\n",
    "- capital：该国家或地区的首都\n",
    "- latitude：所处纬度\n",
    "- longitude：所处经度\n",
    "- area：陆地面积\n",
    "- region：所处大洲\n",
    "- subregion：次区域\n",
    "- borders：临近国家\n",
    "- GDP：国内生产总值（十亿美元），衡量一国经济规模和产出的最基本、最综合的指标。\n",
    "- GDP Growth：GDP年增长率（%），衡量国家经济活力和发展势头的最重要指标。\n",
    "- Interest Rate：中央银行利率（%），由一国或经济体的中央银行设定的关键利率，是执行货币政策的最主要工具。\n",
    "- Inflation Rate：通货膨胀率（%），衡量一国经济整体价格水平的上涨速度和货币购买力的下降速度。\n",
    "- Jobless Rate：失业率（%），衡量一个国家劳动力市场健康状况和整体经济表现的关键指标。\n",
    "- Government Budget：政府预算余额（占GDP的百分比），用来衡量政府财政健康状况。\n",
    "- Debt/GDP：负债率（%），即债务占GDP的比重。\n",
    "- Currency Account：经常账户余额（占GDP的百分比），用来衡量一个国家国际经济健康状况的指标，有顺差、逆差或平衡。\n",
    "- Population：总人口（百万）。"
   ]
  },
  {
   "cell_type": "markdown",
   "id": "a66e28ca-5ba3-449f-b80e-4c1148f1a625",
   "metadata": {},
   "source": [
    "## 读取数据"
   ]
  },
  {
   "cell_type": "code",
   "execution_count": 5,
   "id": "748f59d8-2eb0-4c62-9d38-3e746d5b74f9",
   "metadata": {},
   "outputs": [],
   "source": [
    "import numpy as np\n",
    "import pandas as pd\n",
    "import matplotlib.pyplot as plt\n",
    "import seaborn as sns"
   ]
  },
  {
   "cell_type": "code",
   "execution_count": 6,
   "id": "88b9a795-cf47-4734-9da4-2c5d165a9792",
   "metadata": {},
   "outputs": [],
   "source": [
    "orginal_data = pd.read_csv(\"world_economics.csv\")"
   ]
  },
  {
   "cell_type": "code",
   "execution_count": 7,
   "id": "e9c83046-6321-4c70-90cf-7236ecefb7fc",
   "metadata": {},
   "outputs": [
    {
     "data": {
      "text/html": [
       "<div>\n",
       "<style scoped>\n",
       "    .dataframe tbody tr th:only-of-type {\n",
       "        vertical-align: middle;\n",
       "    }\n",
       "\n",
       "    .dataframe tbody tr th {\n",
       "        vertical-align: top;\n",
       "    }\n",
       "\n",
       "    .dataframe thead th {\n",
       "        text-align: right;\n",
       "    }\n",
       "</style>\n",
       "<table border=\"1\" class=\"dataframe\">\n",
       "  <thead>\n",
       "    <tr style=\"text-align: right;\">\n",
       "      <th></th>\n",
       "      <th>name</th>\n",
       "      <th>currency</th>\n",
       "      <th>capital</th>\n",
       "      <th>languages</th>\n",
       "      <th>latitude</th>\n",
       "      <th>longitude</th>\n",
       "      <th>area</th>\n",
       "      <th>region</th>\n",
       "      <th>subregion</th>\n",
       "      <th>borders</th>\n",
       "      <th>GDP</th>\n",
       "      <th>GDP Growth</th>\n",
       "      <th>Interest Rate</th>\n",
       "      <th>Inflation Rate</th>\n",
       "      <th>Jobless Rate</th>\n",
       "      <th>Gov. Budget</th>\n",
       "      <th>Debt/GDP</th>\n",
       "      <th>Current Account</th>\n",
       "      <th>Population</th>\n",
       "    </tr>\n",
       "  </thead>\n",
       "  <tbody>\n",
       "    <tr>\n",
       "      <th>0</th>\n",
       "      <td>Tunisia</td>\n",
       "      <td>Tunisian dinar</td>\n",
       "      <td>Tunis</td>\n",
       "      <td>Arabic</td>\n",
       "      <td>34.000000</td>\n",
       "      <td>9.000000</td>\n",
       "      <td>163610.0</td>\n",
       "      <td>Africa</td>\n",
       "      <td>Northern Africa</td>\n",
       "      <td>['DZA', 'LBY']</td>\n",
       "      <td>53</td>\n",
       "      <td>1.80</td>\n",
       "      <td>7.5</td>\n",
       "      <td>5.30</td>\n",
       "      <td>15.70</td>\n",
       "      <td>-6.6</td>\n",
       "      <td>79.8</td>\n",
       "      <td>-2.7</td>\n",
       "      <td>11.89</td>\n",
       "    </tr>\n",
       "    <tr>\n",
       "      <th>1</th>\n",
       "      <td>Vietnam</td>\n",
       "      <td>Vietnamese đồng</td>\n",
       "      <td>Hanoi</td>\n",
       "      <td>Vietnamese</td>\n",
       "      <td>16.166667</td>\n",
       "      <td>107.833333</td>\n",
       "      <td>331212.0</td>\n",
       "      <td>Asia</td>\n",
       "      <td>South-Eastern Asia</td>\n",
       "      <td>['KHM', 'CHN', 'LAO']</td>\n",
       "      <td>476</td>\n",
       "      <td>6.88</td>\n",
       "      <td>4.5</td>\n",
       "      <td>3.19</td>\n",
       "      <td>2.24</td>\n",
       "      <td>-4.0</td>\n",
       "      <td>32.9</td>\n",
       "      <td>6.1</td>\n",
       "      <td>101.30</td>\n",
       "    </tr>\n",
       "    <tr>\n",
       "      <th>2</th>\n",
       "      <td>Ecuador</td>\n",
       "      <td>United States dollar</td>\n",
       "      <td>Quito</td>\n",
       "      <td>Spanish</td>\n",
       "      <td>-2.000000</td>\n",
       "      <td>-77.500000</td>\n",
       "      <td>276841.0</td>\n",
       "      <td>Americas</td>\n",
       "      <td>South America</td>\n",
       "      <td>['COL', 'PER']</td>\n",
       "      <td>125</td>\n",
       "      <td>3.46</td>\n",
       "      <td>8.5</td>\n",
       "      <td>0.72</td>\n",
       "      <td>4.50</td>\n",
       "      <td>-1.9</td>\n",
       "      <td>50.6</td>\n",
       "      <td>2.8</td>\n",
       "      <td>17.97</td>\n",
       "    </tr>\n",
       "    <tr>\n",
       "      <th>3</th>\n",
       "      <td>Puerto Rico</td>\n",
       "      <td>United States dollar</td>\n",
       "      <td>San Juan</td>\n",
       "      <td>English</td>\n",
       "      <td>18.250000</td>\n",
       "      <td>-66.500000</td>\n",
       "      <td>8870.0</td>\n",
       "      <td>Americas</td>\n",
       "      <td>Caribbean</td>\n",
       "      <td>NaN</td>\n",
       "      <td>126</td>\n",
       "      <td>NaN</td>\n",
       "      <td>NaN</td>\n",
       "      <td>1.20</td>\n",
       "      <td>5.70</td>\n",
       "      <td>NaN</td>\n",
       "      <td>NaN</td>\n",
       "      <td>NaN</td>\n",
       "      <td>3.20</td>\n",
       "    </tr>\n",
       "    <tr>\n",
       "      <th>4</th>\n",
       "      <td>United States</td>\n",
       "      <td>United States dollar</td>\n",
       "      <td>Washington, D.C.</td>\n",
       "      <td>English</td>\n",
       "      <td>38.000000</td>\n",
       "      <td>-97.000000</td>\n",
       "      <td>9372610.0</td>\n",
       "      <td>Americas</td>\n",
       "      <td>North America</td>\n",
       "      <td>['CAN', 'MEX']</td>\n",
       "      <td>29185</td>\n",
       "      <td>3.00</td>\n",
       "      <td>4.5</td>\n",
       "      <td>2.70</td>\n",
       "      <td>4.20</td>\n",
       "      <td>-6.4</td>\n",
       "      <td>124.3</td>\n",
       "      <td>-3.9</td>\n",
       "      <td>341.15</td>\n",
       "    </tr>\n",
       "  </tbody>\n",
       "</table>\n",
       "</div>"
      ],
      "text/plain": [
       "            name              currency           capital   languages  \\\n",
       "0        Tunisia        Tunisian dinar             Tunis      Arabic   \n",
       "1        Vietnam       Vietnamese đồng             Hanoi  Vietnamese   \n",
       "2        Ecuador  United States dollar             Quito     Spanish   \n",
       "3    Puerto Rico  United States dollar          San Juan     English   \n",
       "4  United States  United States dollar  Washington, D.C.     English   \n",
       "\n",
       "    latitude   longitude       area    region           subregion  \\\n",
       "0  34.000000    9.000000   163610.0    Africa     Northern Africa   \n",
       "1  16.166667  107.833333   331212.0      Asia  South-Eastern Asia   \n",
       "2  -2.000000  -77.500000   276841.0  Americas       South America   \n",
       "3  18.250000  -66.500000     8870.0  Americas           Caribbean   \n",
       "4  38.000000  -97.000000  9372610.0  Americas       North America   \n",
       "\n",
       "                 borders    GDP  GDP Growth  Interest Rate  Inflation Rate  \\\n",
       "0         ['DZA', 'LBY']     53        1.80            7.5            5.30   \n",
       "1  ['KHM', 'CHN', 'LAO']    476        6.88            4.5            3.19   \n",
       "2         ['COL', 'PER']    125        3.46            8.5            0.72   \n",
       "3                    NaN    126         NaN            NaN            1.20   \n",
       "4         ['CAN', 'MEX']  29185        3.00            4.5            2.70   \n",
       "\n",
       "   Jobless Rate  Gov. Budget  Debt/GDP  Current Account  Population  \n",
       "0         15.70         -6.6      79.8             -2.7       11.89  \n",
       "1          2.24         -4.0      32.9              6.1      101.30  \n",
       "2          4.50         -1.9      50.6              2.8       17.97  \n",
       "3          5.70          NaN       NaN              NaN        3.20  \n",
       "4          4.20         -6.4     124.3             -3.9      341.15  "
      ]
     },
     "execution_count": 7,
     "metadata": {},
     "output_type": "execute_result"
    }
   ],
   "source": [
    "orginal_data.head()"
   ]
  },
  {
   "cell_type": "markdown",
   "id": "1e2f4ada-6e51-4fd2-828c-8c0b43cdf53a",
   "metadata": {},
   "source": [
    "## 评估和清理数据"
   ]
  },
  {
   "cell_type": "code",
   "execution_count": 9,
   "id": "ab4d4d01-a991-4d09-895a-633e4f75f70a",
   "metadata": {},
   "outputs": [],
   "source": [
    "cleaned_data = orginal_data.copy()"
   ]
  },
  {
   "cell_type": "markdown",
   "id": "ab0728f3-375e-484e-9837-9d3ffcc9cf82",
   "metadata": {},
   "source": [
    "### 数据整齐度"
   ]
  },
  {
   "cell_type": "code",
   "execution_count": 11,
   "id": "5db23d5d-c916-4f4e-abff-c522c4d1cfb1",
   "metadata": {},
   "outputs": [
    {
     "data": {
      "text/html": [
       "<div>\n",
       "<style scoped>\n",
       "    .dataframe tbody tr th:only-of-type {\n",
       "        vertical-align: middle;\n",
       "    }\n",
       "\n",
       "    .dataframe tbody tr th {\n",
       "        vertical-align: top;\n",
       "    }\n",
       "\n",
       "    .dataframe thead th {\n",
       "        text-align: right;\n",
       "    }\n",
       "</style>\n",
       "<table border=\"1\" class=\"dataframe\">\n",
       "  <thead>\n",
       "    <tr style=\"text-align: right;\">\n",
       "      <th></th>\n",
       "      <th>name</th>\n",
       "      <th>currency</th>\n",
       "      <th>capital</th>\n",
       "      <th>languages</th>\n",
       "      <th>latitude</th>\n",
       "      <th>longitude</th>\n",
       "      <th>area</th>\n",
       "      <th>region</th>\n",
       "      <th>subregion</th>\n",
       "      <th>borders</th>\n",
       "      <th>GDP</th>\n",
       "      <th>GDP Growth</th>\n",
       "      <th>Interest Rate</th>\n",
       "      <th>Inflation Rate</th>\n",
       "      <th>Jobless Rate</th>\n",
       "      <th>Gov. Budget</th>\n",
       "      <th>Debt/GDP</th>\n",
       "      <th>Current Account</th>\n",
       "      <th>Population</th>\n",
       "    </tr>\n",
       "  </thead>\n",
       "  <tbody>\n",
       "    <tr>\n",
       "      <th>0</th>\n",
       "      <td>Tunisia</td>\n",
       "      <td>Tunisian dinar</td>\n",
       "      <td>Tunis</td>\n",
       "      <td>Arabic</td>\n",
       "      <td>34.000000</td>\n",
       "      <td>9.000000</td>\n",
       "      <td>163610.0</td>\n",
       "      <td>Africa</td>\n",
       "      <td>Northern Africa</td>\n",
       "      <td>['DZA', 'LBY']</td>\n",
       "      <td>53</td>\n",
       "      <td>1.80</td>\n",
       "      <td>7.5</td>\n",
       "      <td>5.30</td>\n",
       "      <td>15.70</td>\n",
       "      <td>-6.6</td>\n",
       "      <td>79.8</td>\n",
       "      <td>-2.7</td>\n",
       "      <td>11.89</td>\n",
       "    </tr>\n",
       "    <tr>\n",
       "      <th>1</th>\n",
       "      <td>Vietnam</td>\n",
       "      <td>Vietnamese đồng</td>\n",
       "      <td>Hanoi</td>\n",
       "      <td>Vietnamese</td>\n",
       "      <td>16.166667</td>\n",
       "      <td>107.833333</td>\n",
       "      <td>331212.0</td>\n",
       "      <td>Asia</td>\n",
       "      <td>South-Eastern Asia</td>\n",
       "      <td>['KHM', 'CHN', 'LAO']</td>\n",
       "      <td>476</td>\n",
       "      <td>6.88</td>\n",
       "      <td>4.5</td>\n",
       "      <td>3.19</td>\n",
       "      <td>2.24</td>\n",
       "      <td>-4.0</td>\n",
       "      <td>32.9</td>\n",
       "      <td>6.1</td>\n",
       "      <td>101.30</td>\n",
       "    </tr>\n",
       "    <tr>\n",
       "      <th>2</th>\n",
       "      <td>Ecuador</td>\n",
       "      <td>United States dollar</td>\n",
       "      <td>Quito</td>\n",
       "      <td>Spanish</td>\n",
       "      <td>-2.000000</td>\n",
       "      <td>-77.500000</td>\n",
       "      <td>276841.0</td>\n",
       "      <td>Americas</td>\n",
       "      <td>South America</td>\n",
       "      <td>['COL', 'PER']</td>\n",
       "      <td>125</td>\n",
       "      <td>3.46</td>\n",
       "      <td>8.5</td>\n",
       "      <td>0.72</td>\n",
       "      <td>4.50</td>\n",
       "      <td>-1.9</td>\n",
       "      <td>50.6</td>\n",
       "      <td>2.8</td>\n",
       "      <td>17.97</td>\n",
       "    </tr>\n",
       "    <tr>\n",
       "      <th>3</th>\n",
       "      <td>Puerto Rico</td>\n",
       "      <td>United States dollar</td>\n",
       "      <td>San Juan</td>\n",
       "      <td>English</td>\n",
       "      <td>18.250000</td>\n",
       "      <td>-66.500000</td>\n",
       "      <td>8870.0</td>\n",
       "      <td>Americas</td>\n",
       "      <td>Caribbean</td>\n",
       "      <td>NaN</td>\n",
       "      <td>126</td>\n",
       "      <td>NaN</td>\n",
       "      <td>NaN</td>\n",
       "      <td>1.20</td>\n",
       "      <td>5.70</td>\n",
       "      <td>NaN</td>\n",
       "      <td>NaN</td>\n",
       "      <td>NaN</td>\n",
       "      <td>3.20</td>\n",
       "    </tr>\n",
       "    <tr>\n",
       "      <th>4</th>\n",
       "      <td>United States</td>\n",
       "      <td>United States dollar</td>\n",
       "      <td>Washington, D.C.</td>\n",
       "      <td>English</td>\n",
       "      <td>38.000000</td>\n",
       "      <td>-97.000000</td>\n",
       "      <td>9372610.0</td>\n",
       "      <td>Americas</td>\n",
       "      <td>North America</td>\n",
       "      <td>['CAN', 'MEX']</td>\n",
       "      <td>29185</td>\n",
       "      <td>3.00</td>\n",
       "      <td>4.5</td>\n",
       "      <td>2.70</td>\n",
       "      <td>4.20</td>\n",
       "      <td>-6.4</td>\n",
       "      <td>124.3</td>\n",
       "      <td>-3.9</td>\n",
       "      <td>341.15</td>\n",
       "    </tr>\n",
       "  </tbody>\n",
       "</table>\n",
       "</div>"
      ],
      "text/plain": [
       "            name              currency           capital   languages  \\\n",
       "0        Tunisia        Tunisian dinar             Tunis      Arabic   \n",
       "1        Vietnam       Vietnamese đồng             Hanoi  Vietnamese   \n",
       "2        Ecuador  United States dollar             Quito     Spanish   \n",
       "3    Puerto Rico  United States dollar          San Juan     English   \n",
       "4  United States  United States dollar  Washington, D.C.     English   \n",
       "\n",
       "    latitude   longitude       area    region           subregion  \\\n",
       "0  34.000000    9.000000   163610.0    Africa     Northern Africa   \n",
       "1  16.166667  107.833333   331212.0      Asia  South-Eastern Asia   \n",
       "2  -2.000000  -77.500000   276841.0  Americas       South America   \n",
       "3  18.250000  -66.500000     8870.0  Americas           Caribbean   \n",
       "4  38.000000  -97.000000  9372610.0  Americas       North America   \n",
       "\n",
       "                 borders    GDP  GDP Growth  Interest Rate  Inflation Rate  \\\n",
       "0         ['DZA', 'LBY']     53        1.80            7.5            5.30   \n",
       "1  ['KHM', 'CHN', 'LAO']    476        6.88            4.5            3.19   \n",
       "2         ['COL', 'PER']    125        3.46            8.5            0.72   \n",
       "3                    NaN    126         NaN            NaN            1.20   \n",
       "4         ['CAN', 'MEX']  29185        3.00            4.5            2.70   \n",
       "\n",
       "   Jobless Rate  Gov. Budget  Debt/GDP  Current Account  Population  \n",
       "0         15.70         -6.6      79.8             -2.7       11.89  \n",
       "1          2.24         -4.0      32.9              6.1      101.30  \n",
       "2          4.50         -1.9      50.6              2.8       17.97  \n",
       "3          5.70          NaN       NaN              NaN        3.20  \n",
       "4          4.20         -6.4     124.3             -3.9      341.15  "
      ]
     },
     "execution_count": 11,
     "metadata": {},
     "output_type": "execute_result"
    }
   ],
   "source": [
    "cleaned_data.head()"
   ]
  },
  {
   "cell_type": "markdown",
   "id": "cd6e52ed-4cd2-4c76-98c0-0eacf1155242",
   "metadata": {},
   "source": [
    "从头部的5行数据来看，数据符合“每个变量为一列，每个观察值为一行，每种类型的观察单位为一个表格”，因此不存在结构性问题。"
   ]
  },
  {
   "cell_type": "markdown",
   "id": "d2be9c60-6573-4255-87d2-3f43b088ac3b",
   "metadata": {},
   "source": [
    "### 数据干净度"
   ]
  },
  {
   "cell_type": "markdown",
   "id": "f1fd0a2d-0b9e-4ecc-b1e5-eab354a041ae",
   "metadata": {},
   "source": [
    "接下来通过`info`，对数据内容进行大致了解。"
   ]
  },
  {
   "cell_type": "code",
   "execution_count": 15,
   "id": "e20b7187-0ae4-4c72-9cfb-2e7c23969e86",
   "metadata": {},
   "outputs": [
    {
     "name": "stdout",
     "output_type": "stream",
     "text": [
      "<class 'pandas.core.frame.DataFrame'>\n",
      "RangeIndex: 173 entries, 0 to 172\n",
      "Data columns (total 19 columns):\n",
      " #   Column           Non-Null Count  Dtype  \n",
      "---  ------           --------------  -----  \n",
      " 0   name             173 non-null    object \n",
      " 1   currency         173 non-null    object \n",
      " 2   capital          172 non-null    object \n",
      " 3   languages        173 non-null    object \n",
      " 4   latitude         173 non-null    float64\n",
      " 5   longitude        173 non-null    float64\n",
      " 6   area             173 non-null    float64\n",
      " 7   region           173 non-null    object \n",
      " 8   subregion        173 non-null    object \n",
      " 9   borders          149 non-null    object \n",
      " 10  GDP              173 non-null    int64  \n",
      " 11  GDP Growth       101 non-null    float64\n",
      " 12  Interest Rate    162 non-null    float64\n",
      " 13  Inflation Rate   172 non-null    float64\n",
      " 14  Jobless Rate     171 non-null    float64\n",
      " 15  Gov. Budget      166 non-null    float64\n",
      " 16  Debt/GDP         165 non-null    float64\n",
      " 17  Current Account  167 non-null    float64\n",
      " 18  Population       173 non-null    float64\n",
      "dtypes: float64(11), int64(1), object(7)\n",
      "memory usage: 25.8+ KB\n"
     ]
    }
   ],
   "source": [
    "cleaned_data.info()"
   ]
  },
  {
   "cell_type": "markdown",
   "id": "5499496e-1919-4eb0-a1aa-e5e1c50bb02e",
   "metadata": {},
   "source": [
    "从输出结果来看，`cleaned_data`共有173条观察值，其中`capital`、`borders`、`GDP Growth`、`Interest Rate`、`Inflation Rate`、`Jobless Rate`、`Gov. Budget`、`Debt/GDP`、`Current Account`均存在缺失值，将在后续进行评估和清理。"
   ]
  },
  {
   "cell_type": "markdown",
   "id": "a41f8363-89b8-47b4-829b-92c232802468",
   "metadata": {},
   "source": [
    "#### 处理缺失数据"
   ]
  },
  {
   "cell_type": "code",
   "execution_count": 18,
   "id": "6b3dc725-bbff-4a14-bd97-e2e4a18fcc1e",
   "metadata": {},
   "outputs": [
    {
     "data": {
      "text/html": [
       "<div>\n",
       "<style scoped>\n",
       "    .dataframe tbody tr th:only-of-type {\n",
       "        vertical-align: middle;\n",
       "    }\n",
       "\n",
       "    .dataframe tbody tr th {\n",
       "        vertical-align: top;\n",
       "    }\n",
       "\n",
       "    .dataframe thead th {\n",
       "        text-align: right;\n",
       "    }\n",
       "</style>\n",
       "<table border=\"1\" class=\"dataframe\">\n",
       "  <thead>\n",
       "    <tr style=\"text-align: right;\">\n",
       "      <th></th>\n",
       "      <th>name</th>\n",
       "      <th>currency</th>\n",
       "      <th>capital</th>\n",
       "      <th>languages</th>\n",
       "      <th>latitude</th>\n",
       "      <th>longitude</th>\n",
       "      <th>area</th>\n",
       "      <th>region</th>\n",
       "      <th>subregion</th>\n",
       "      <th>borders</th>\n",
       "      <th>GDP</th>\n",
       "      <th>GDP Growth</th>\n",
       "      <th>Interest Rate</th>\n",
       "      <th>Inflation Rate</th>\n",
       "      <th>Jobless Rate</th>\n",
       "      <th>Gov. Budget</th>\n",
       "      <th>Debt/GDP</th>\n",
       "      <th>Current Account</th>\n",
       "      <th>Population</th>\n",
       "    </tr>\n",
       "  </thead>\n",
       "  <tbody>\n",
       "    <tr>\n",
       "      <th>166</th>\n",
       "      <td>Macau</td>\n",
       "      <td>Macanese pataca</td>\n",
       "      <td>NaN</td>\n",
       "      <td>Portuguese</td>\n",
       "      <td>22.166667</td>\n",
       "      <td>113.55</td>\n",
       "      <td>30.0</td>\n",
       "      <td>Asia</td>\n",
       "      <td>Eastern Asia</td>\n",
       "      <td>['CHN']</td>\n",
       "      <td>50</td>\n",
       "      <td>NaN</td>\n",
       "      <td>4.75</td>\n",
       "      <td>0.12</td>\n",
       "      <td>1.9</td>\n",
       "      <td>NaN</td>\n",
       "      <td>NaN</td>\n",
       "      <td>31.4</td>\n",
       "      <td>0.69</td>\n",
       "    </tr>\n",
       "  </tbody>\n",
       "</table>\n",
       "</div>"
      ],
      "text/plain": [
       "      name         currency capital   languages   latitude  longitude  area  \\\n",
       "166  Macau  Macanese pataca     NaN  Portuguese  22.166667     113.55  30.0   \n",
       "\n",
       "    region     subregion  borders  GDP  GDP Growth  Interest Rate  \\\n",
       "166   Asia  Eastern Asia  ['CHN']   50         NaN           4.75   \n",
       "\n",
       "     Inflation Rate  Jobless Rate  Gov. Budget  Debt/GDP  Current Account  \\\n",
       "166            0.12           1.9          NaN       NaN             31.4   \n",
       "\n",
       "     Population  \n",
       "166        0.69  "
      ]
     },
     "execution_count": 18,
     "metadata": {},
     "output_type": "execute_result"
    }
   ],
   "source": [
    "cleaned_data[cleaned_data['capital'].isna()]"
   ]
  },
  {
   "cell_type": "code",
   "execution_count": 19,
   "id": "3f7bd5da-b866-4863-96cc-593c9044659d",
   "metadata": {},
   "outputs": [],
   "source": [
    "cleaned_data['capital'] = cleaned_data['capital'].fillna('Beijing')"
   ]
  },
  {
   "cell_type": "code",
   "execution_count": 20,
   "id": "0dde4921-e363-4534-b4db-47204fbd7d21",
   "metadata": {},
   "outputs": [
    {
     "data": {
      "text/plain": [
       "0"
      ]
     },
     "execution_count": 20,
     "metadata": {},
     "output_type": "execute_result"
    }
   ],
   "source": [
    "cleaned_data['capital'].isna().sum()"
   ]
  },
  {
   "cell_type": "code",
   "execution_count": 21,
   "id": "020cdf07-f3be-493f-b20d-8e4e7b0d8cac",
   "metadata": {},
   "outputs": [
    {
     "data": {
      "text/html": [
       "<div>\n",
       "<style scoped>\n",
       "    .dataframe tbody tr th:only-of-type {\n",
       "        vertical-align: middle;\n",
       "    }\n",
       "\n",
       "    .dataframe tbody tr th {\n",
       "        vertical-align: top;\n",
       "    }\n",
       "\n",
       "    .dataframe thead th {\n",
       "        text-align: right;\n",
       "    }\n",
       "</style>\n",
       "<table border=\"1\" class=\"dataframe\">\n",
       "  <thead>\n",
       "    <tr style=\"text-align: right;\">\n",
       "      <th></th>\n",
       "      <th>name</th>\n",
       "      <th>currency</th>\n",
       "      <th>capital</th>\n",
       "      <th>languages</th>\n",
       "      <th>latitude</th>\n",
       "      <th>longitude</th>\n",
       "      <th>area</th>\n",
       "      <th>region</th>\n",
       "      <th>subregion</th>\n",
       "      <th>borders</th>\n",
       "      <th>GDP</th>\n",
       "      <th>GDP Growth</th>\n",
       "      <th>Interest Rate</th>\n",
       "      <th>Inflation Rate</th>\n",
       "      <th>Jobless Rate</th>\n",
       "      <th>Gov. Budget</th>\n",
       "      <th>Debt/GDP</th>\n",
       "      <th>Current Account</th>\n",
       "      <th>Population</th>\n",
       "    </tr>\n",
       "  </thead>\n",
       "  <tbody>\n",
       "    <tr>\n",
       "      <th>166</th>\n",
       "      <td>Macau</td>\n",
       "      <td>Macanese pataca</td>\n",
       "      <td>Beijing</td>\n",
       "      <td>Portuguese</td>\n",
       "      <td>22.166667</td>\n",
       "      <td>113.55</td>\n",
       "      <td>30.0</td>\n",
       "      <td>Asia</td>\n",
       "      <td>Eastern Asia</td>\n",
       "      <td>['CHN']</td>\n",
       "      <td>50</td>\n",
       "      <td>NaN</td>\n",
       "      <td>4.75</td>\n",
       "      <td>0.12</td>\n",
       "      <td>1.9</td>\n",
       "      <td>NaN</td>\n",
       "      <td>NaN</td>\n",
       "      <td>31.4</td>\n",
       "      <td>0.69</td>\n",
       "    </tr>\n",
       "  </tbody>\n",
       "</table>\n",
       "</div>"
      ],
      "text/plain": [
       "      name         currency  capital   languages   latitude  longitude  area  \\\n",
       "166  Macau  Macanese pataca  Beijing  Portuguese  22.166667     113.55  30.0   \n",
       "\n",
       "    region     subregion  borders  GDP  GDP Growth  Interest Rate  \\\n",
       "166   Asia  Eastern Asia  ['CHN']   50         NaN           4.75   \n",
       "\n",
       "     Inflation Rate  Jobless Rate  Gov. Budget  Debt/GDP  Current Account  \\\n",
       "166            0.12           1.9          NaN       NaN             31.4   \n",
       "\n",
       "     Population  \n",
       "166        0.69  "
      ]
     },
     "execution_count": 21,
     "metadata": {},
     "output_type": "execute_result"
    }
   ],
   "source": [
    "cleaned_data[cleaned_data['name'] == 'Macau']"
   ]
  },
  {
   "cell_type": "code",
   "execution_count": 22,
   "id": "191b0967-98df-488c-87fa-b7d530b43ac2",
   "metadata": {},
   "outputs": [
    {
     "data": {
      "text/html": [
       "<div>\n",
       "<style scoped>\n",
       "    .dataframe tbody tr th:only-of-type {\n",
       "        vertical-align: middle;\n",
       "    }\n",
       "\n",
       "    .dataframe tbody tr th {\n",
       "        vertical-align: top;\n",
       "    }\n",
       "\n",
       "    .dataframe thead th {\n",
       "        text-align: right;\n",
       "    }\n",
       "</style>\n",
       "<table border=\"1\" class=\"dataframe\">\n",
       "  <thead>\n",
       "    <tr style=\"text-align: right;\">\n",
       "      <th></th>\n",
       "      <th>name</th>\n",
       "      <th>currency</th>\n",
       "      <th>capital</th>\n",
       "      <th>languages</th>\n",
       "      <th>latitude</th>\n",
       "      <th>longitude</th>\n",
       "      <th>area</th>\n",
       "      <th>region</th>\n",
       "      <th>subregion</th>\n",
       "      <th>borders</th>\n",
       "      <th>GDP</th>\n",
       "      <th>GDP Growth</th>\n",
       "      <th>Interest Rate</th>\n",
       "      <th>Inflation Rate</th>\n",
       "      <th>Jobless Rate</th>\n",
       "      <th>Gov. Budget</th>\n",
       "      <th>Debt/GDP</th>\n",
       "      <th>Current Account</th>\n",
       "      <th>Population</th>\n",
       "    </tr>\n",
       "  </thead>\n",
       "  <tbody>\n",
       "    <tr>\n",
       "      <th>3</th>\n",
       "      <td>Puerto Rico</td>\n",
       "      <td>United States dollar</td>\n",
       "      <td>San Juan</td>\n",
       "      <td>English</td>\n",
       "      <td>18.250000</td>\n",
       "      <td>-66.500000</td>\n",
       "      <td>8870.0</td>\n",
       "      <td>Americas</td>\n",
       "      <td>Caribbean</td>\n",
       "      <td>NaN</td>\n",
       "      <td>126</td>\n",
       "      <td>NaN</td>\n",
       "      <td>NaN</td>\n",
       "      <td>1.20</td>\n",
       "      <td>5.70</td>\n",
       "      <td>NaN</td>\n",
       "      <td>NaN</td>\n",
       "      <td>NaN</td>\n",
       "      <td>3.20</td>\n",
       "    </tr>\n",
       "    <tr>\n",
       "      <th>13</th>\n",
       "      <td>Malta</td>\n",
       "      <td>Euro</td>\n",
       "      <td>Valletta</td>\n",
       "      <td>English</td>\n",
       "      <td>35.937500</td>\n",
       "      <td>14.375400</td>\n",
       "      <td>316.0</td>\n",
       "      <td>Europe</td>\n",
       "      <td>Southern Europe</td>\n",
       "      <td>NaN</td>\n",
       "      <td>24</td>\n",
       "      <td>2.10</td>\n",
       "      <td>2.15</td>\n",
       "      <td>2.50</td>\n",
       "      <td>2.70</td>\n",
       "      <td>-3.7</td>\n",
       "      <td>47.4</td>\n",
       "      <td>5.7</td>\n",
       "      <td>0.57</td>\n",
       "    </tr>\n",
       "    <tr>\n",
       "      <th>34</th>\n",
       "      <td>Philippines</td>\n",
       "      <td>Philippine peso</td>\n",
       "      <td>Manila</td>\n",
       "      <td>English</td>\n",
       "      <td>13.000000</td>\n",
       "      <td>122.000000</td>\n",
       "      <td>342353.0</td>\n",
       "      <td>Asia</td>\n",
       "      <td>South-Eastern Asia</td>\n",
       "      <td>NaN</td>\n",
       "      <td>462</td>\n",
       "      <td>1.50</td>\n",
       "      <td>5.25</td>\n",
       "      <td>0.90</td>\n",
       "      <td>3.70</td>\n",
       "      <td>-5.7</td>\n",
       "      <td>60.7</td>\n",
       "      <td>-3.8</td>\n",
       "      <td>112.90</td>\n",
       "    </tr>\n",
       "    <tr>\n",
       "      <th>46</th>\n",
       "      <td>New Zealand</td>\n",
       "      <td>New Zealand dollar</td>\n",
       "      <td>Wellington</td>\n",
       "      <td>English</td>\n",
       "      <td>-41.000000</td>\n",
       "      <td>174.000000</td>\n",
       "      <td>270467.0</td>\n",
       "      <td>Oceania</td>\n",
       "      <td>Australia and New Zealand</td>\n",
       "      <td>NaN</td>\n",
       "      <td>260</td>\n",
       "      <td>0.80</td>\n",
       "      <td>3.00</td>\n",
       "      <td>2.70</td>\n",
       "      <td>5.20</td>\n",
       "      <td>-3.1</td>\n",
       "      <td>45.2</td>\n",
       "      <td>-5.7</td>\n",
       "      <td>5.36</td>\n",
       "    </tr>\n",
       "    <tr>\n",
       "      <th>54</th>\n",
       "      <td>Maldives</td>\n",
       "      <td>Maldivian rufiyaa</td>\n",
       "      <td>Malé</td>\n",
       "      <td>Maldivian</td>\n",
       "      <td>3.250000</td>\n",
       "      <td>73.000000</td>\n",
       "      <td>300.0</td>\n",
       "      <td>Asia</td>\n",
       "      <td>Southern Asia</td>\n",
       "      <td>NaN</td>\n",
       "      <td>7</td>\n",
       "      <td>NaN</td>\n",
       "      <td>7.00</td>\n",
       "      <td>3.80</td>\n",
       "      <td>4.60</td>\n",
       "      <td>-12.5</td>\n",
       "      <td>62.4</td>\n",
       "      <td>-20.4</td>\n",
       "      <td>0.53</td>\n",
       "    </tr>\n",
       "    <tr>\n",
       "      <th>68</th>\n",
       "      <td>Cuba</td>\n",
       "      <td>Cuban convertible peso</td>\n",
       "      <td>Havana</td>\n",
       "      <td>Spanish</td>\n",
       "      <td>21.500000</td>\n",
       "      <td>-80.000000</td>\n",
       "      <td>109884.0</td>\n",
       "      <td>Americas</td>\n",
       "      <td>Caribbean</td>\n",
       "      <td>NaN</td>\n",
       "      <td>107</td>\n",
       "      <td>NaN</td>\n",
       "      <td>2.25</td>\n",
       "      <td>14.37</td>\n",
       "      <td>1.50</td>\n",
       "      <td>-11.1</td>\n",
       "      <td>119.0</td>\n",
       "      <td>-0.5</td>\n",
       "      <td>9.75</td>\n",
       "    </tr>\n",
       "    <tr>\n",
       "      <th>70</th>\n",
       "      <td>Mauritius</td>\n",
       "      <td>Mauritian rupee</td>\n",
       "      <td>Port Louis</td>\n",
       "      <td>English</td>\n",
       "      <td>-20.283333</td>\n",
       "      <td>57.550000</td>\n",
       "      <td>2040.0</td>\n",
       "      <td>Africa</td>\n",
       "      <td>Eastern Africa</td>\n",
       "      <td>NaN</td>\n",
       "      <td>15</td>\n",
       "      <td>0.90</td>\n",
       "      <td>4.50</td>\n",
       "      <td>5.20</td>\n",
       "      <td>6.00</td>\n",
       "      <td>-5.7</td>\n",
       "      <td>82.1</td>\n",
       "      <td>-4.2</td>\n",
       "      <td>1.26</td>\n",
       "    </tr>\n",
       "    <tr>\n",
       "      <th>74</th>\n",
       "      <td>Cape Verde</td>\n",
       "      <td>Cape Verdean escudo</td>\n",
       "      <td>Praia</td>\n",
       "      <td>Portuguese</td>\n",
       "      <td>16.538800</td>\n",
       "      <td>-23.041800</td>\n",
       "      <td>4033.0</td>\n",
       "      <td>Africa</td>\n",
       "      <td>Western Africa</td>\n",
       "      <td>NaN</td>\n",
       "      <td>3</td>\n",
       "      <td>-3.00</td>\n",
       "      <td>2.50</td>\n",
       "      <td>2.70</td>\n",
       "      <td>11.90</td>\n",
       "      <td>-2.9</td>\n",
       "      <td>109.2</td>\n",
       "      <td>-5.8</td>\n",
       "      <td>0.59</td>\n",
       "    </tr>\n",
       "    <tr>\n",
       "      <th>78</th>\n",
       "      <td>Taiwan</td>\n",
       "      <td>New Taiwan dollar</td>\n",
       "      <td>Taipei</td>\n",
       "      <td>Chinese</td>\n",
       "      <td>23.500000</td>\n",
       "      <td>121.000000</td>\n",
       "      <td>36193.0</td>\n",
       "      <td>Asia</td>\n",
       "      <td>Eastern Asia</td>\n",
       "      <td>NaN</td>\n",
       "      <td>757</td>\n",
       "      <td>3.05</td>\n",
       "      <td>2.00</td>\n",
       "      <td>1.54</td>\n",
       "      <td>3.33</td>\n",
       "      <td>0.4</td>\n",
       "      <td>28.2</td>\n",
       "      <td>15.7</td>\n",
       "      <td>23.40</td>\n",
       "    </tr>\n",
       "    <tr>\n",
       "      <th>96</th>\n",
       "      <td>Comoros</td>\n",
       "      <td>Comorian franc</td>\n",
       "      <td>Moroni</td>\n",
       "      <td>Arabic</td>\n",
       "      <td>-12.166667</td>\n",
       "      <td>44.250000</td>\n",
       "      <td>1862.0</td>\n",
       "      <td>Africa</td>\n",
       "      <td>Eastern Africa</td>\n",
       "      <td>NaN</td>\n",
       "      <td>2</td>\n",
       "      <td>NaN</td>\n",
       "      <td>3.08</td>\n",
       "      <td>4.40</td>\n",
       "      <td>3.90</td>\n",
       "      <td>-3.2</td>\n",
       "      <td>28.4</td>\n",
       "      <td>-3.5</td>\n",
       "      <td>0.87</td>\n",
       "    </tr>\n",
       "    <tr>\n",
       "      <th>106</th>\n",
       "      <td>Cyprus</td>\n",
       "      <td>Euro</td>\n",
       "      <td>Nicosia</td>\n",
       "      <td>Greek</td>\n",
       "      <td>35.000000</td>\n",
       "      <td>33.000000</td>\n",
       "      <td>9251.0</td>\n",
       "      <td>Europe</td>\n",
       "      <td>Southern Europe</td>\n",
       "      <td>NaN</td>\n",
       "      <td>36</td>\n",
       "      <td>0.50</td>\n",
       "      <td>2.15</td>\n",
       "      <td>-0.90</td>\n",
       "      <td>3.80</td>\n",
       "      <td>4.3</td>\n",
       "      <td>65.0</td>\n",
       "      <td>-8.4</td>\n",
       "      <td>0.98</td>\n",
       "    </tr>\n",
       "    <tr>\n",
       "      <th>109</th>\n",
       "      <td>Singapore</td>\n",
       "      <td>Singapore dollar</td>\n",
       "      <td>Singapore</td>\n",
       "      <td>English</td>\n",
       "      <td>1.366667</td>\n",
       "      <td>103.800000</td>\n",
       "      <td>710.0</td>\n",
       "      <td>Asia</td>\n",
       "      <td>South-Eastern Asia</td>\n",
       "      <td>NaN</td>\n",
       "      <td>547</td>\n",
       "      <td>1.40</td>\n",
       "      <td>1.51</td>\n",
       "      <td>0.80</td>\n",
       "      <td>2.10</td>\n",
       "      <td>-1.6</td>\n",
       "      <td>173.1</td>\n",
       "      <td>17.5</td>\n",
       "      <td>6.04</td>\n",
       "    </tr>\n",
       "    <tr>\n",
       "      <th>118</th>\n",
       "      <td>Seychelles</td>\n",
       "      <td>Seychellois rupee</td>\n",
       "      <td>Victoria</td>\n",
       "      <td>Seychellois Creole</td>\n",
       "      <td>-4.583333</td>\n",
       "      <td>55.666667</td>\n",
       "      <td>452.0</td>\n",
       "      <td>Africa</td>\n",
       "      <td>Eastern Africa</td>\n",
       "      <td>NaN</td>\n",
       "      <td>2</td>\n",
       "      <td>NaN</td>\n",
       "      <td>1.75</td>\n",
       "      <td>0.64</td>\n",
       "      <td>3.20</td>\n",
       "      <td>0.1</td>\n",
       "      <td>61.0</td>\n",
       "      <td>-7.5</td>\n",
       "      <td>0.10</td>\n",
       "    </tr>\n",
       "    <tr>\n",
       "      <th>135</th>\n",
       "      <td>Madagascar</td>\n",
       "      <td>Malagasy ariary</td>\n",
       "      <td>Antananarivo</td>\n",
       "      <td>French</td>\n",
       "      <td>-20.000000</td>\n",
       "      <td>47.000000</td>\n",
       "      <td>587041.0</td>\n",
       "      <td>Africa</td>\n",
       "      <td>Eastern Africa</td>\n",
       "      <td>NaN</td>\n",
       "      <td>17</td>\n",
       "      <td>NaN</td>\n",
       "      <td>12.00</td>\n",
       "      <td>8.10</td>\n",
       "      <td>3.00</td>\n",
       "      <td>-3.8</td>\n",
       "      <td>38.8</td>\n",
       "      <td>-4.5</td>\n",
       "      <td>31.96</td>\n",
       "    </tr>\n",
       "    <tr>\n",
       "      <th>139</th>\n",
       "      <td>Bahrain</td>\n",
       "      <td>Bahraini dinar</td>\n",
       "      <td>Manama</td>\n",
       "      <td>Arabic</td>\n",
       "      <td>26.000000</td>\n",
       "      <td>50.550000</td>\n",
       "      <td>765.0</td>\n",
       "      <td>Asia</td>\n",
       "      <td>Western Asia</td>\n",
       "      <td>NaN</td>\n",
       "      <td>48</td>\n",
       "      <td>-7.57</td>\n",
       "      <td>5.25</td>\n",
       "      <td>-0.40</td>\n",
       "      <td>6.30</td>\n",
       "      <td>-5.6</td>\n",
       "      <td>134.0</td>\n",
       "      <td>5.3</td>\n",
       "      <td>1.59</td>\n",
       "    </tr>\n",
       "    <tr>\n",
       "      <th>144</th>\n",
       "      <td>Australia</td>\n",
       "      <td>Australian dollar</td>\n",
       "      <td>Canberra</td>\n",
       "      <td>English</td>\n",
       "      <td>-27.000000</td>\n",
       "      <td>133.000000</td>\n",
       "      <td>7692024.0</td>\n",
       "      <td>Oceania</td>\n",
       "      <td>Australia and New Zealand</td>\n",
       "      <td>NaN</td>\n",
       "      <td>1752</td>\n",
       "      <td>0.20</td>\n",
       "      <td>3.60</td>\n",
       "      <td>2.10</td>\n",
       "      <td>4.20</td>\n",
       "      <td>0.6</td>\n",
       "      <td>43.8</td>\n",
       "      <td>-2.1</td>\n",
       "      <td>27.40</td>\n",
       "    </tr>\n",
       "    <tr>\n",
       "      <th>148</th>\n",
       "      <td>Bahamas</td>\n",
       "      <td>Bahamian dollar</td>\n",
       "      <td>Nassau</td>\n",
       "      <td>English</td>\n",
       "      <td>25.034300</td>\n",
       "      <td>-77.396300</td>\n",
       "      <td>13943.0</td>\n",
       "      <td>Americas</td>\n",
       "      <td>Caribbean</td>\n",
       "      <td>NaN</td>\n",
       "      <td>16</td>\n",
       "      <td>NaN</td>\n",
       "      <td>4.00</td>\n",
       "      <td>-0.40</td>\n",
       "      <td>9.40</td>\n",
       "      <td>-1.3</td>\n",
       "      <td>81.5</td>\n",
       "      <td>-7.9</td>\n",
       "      <td>0.41</td>\n",
       "    </tr>\n",
       "    <tr>\n",
       "      <th>151</th>\n",
       "      <td>Iceland</td>\n",
       "      <td>Icelandic króna</td>\n",
       "      <td>Reykjavik</td>\n",
       "      <td>Icelandic</td>\n",
       "      <td>65.000000</td>\n",
       "      <td>-18.000000</td>\n",
       "      <td>103000.0</td>\n",
       "      <td>Europe</td>\n",
       "      <td>Northern Europe</td>\n",
       "      <td>NaN</td>\n",
       "      <td>33</td>\n",
       "      <td>2.70</td>\n",
       "      <td>7.50</td>\n",
       "      <td>4.00</td>\n",
       "      <td>2.80</td>\n",
       "      <td>-3.4</td>\n",
       "      <td>59.3</td>\n",
       "      <td>-2.7</td>\n",
       "      <td>0.39</td>\n",
       "    </tr>\n",
       "    <tr>\n",
       "      <th>152</th>\n",
       "      <td>Japan</td>\n",
       "      <td>Japanese yen</td>\n",
       "      <td>Tokyo</td>\n",
       "      <td>Japanese</td>\n",
       "      <td>36.000000</td>\n",
       "      <td>138.000000</td>\n",
       "      <td>377930.0</td>\n",
       "      <td>Asia</td>\n",
       "      <td>Eastern Asia</td>\n",
       "      <td>NaN</td>\n",
       "      <td>4026</td>\n",
       "      <td>0.30</td>\n",
       "      <td>0.50</td>\n",
       "      <td>3.10</td>\n",
       "      <td>2.50</td>\n",
       "      <td>-2.3</td>\n",
       "      <td>236.7</td>\n",
       "      <td>4.7</td>\n",
       "      <td>120.65</td>\n",
       "    </tr>\n",
       "    <tr>\n",
       "      <th>161</th>\n",
       "      <td>Cayman Islands</td>\n",
       "      <td>Cayman Islands dollar</td>\n",
       "      <td>George Town</td>\n",
       "      <td>English</td>\n",
       "      <td>19.313300</td>\n",
       "      <td>-81.254600</td>\n",
       "      <td>264.0</td>\n",
       "      <td>Americas</td>\n",
       "      <td>Caribbean</td>\n",
       "      <td>NaN</td>\n",
       "      <td>7</td>\n",
       "      <td>NaN</td>\n",
       "      <td>NaN</td>\n",
       "      <td>1.80</td>\n",
       "      <td>2.80</td>\n",
       "      <td>-1.1</td>\n",
       "      <td>7.6</td>\n",
       "      <td>-7.7</td>\n",
       "      <td>0.09</td>\n",
       "    </tr>\n",
       "    <tr>\n",
       "      <th>164</th>\n",
       "      <td>Trinidad and Tobago</td>\n",
       "      <td>Trinidad and Tobago dollar</td>\n",
       "      <td>Port of Spain</td>\n",
       "      <td>English</td>\n",
       "      <td>10.691800</td>\n",
       "      <td>-61.222500</td>\n",
       "      <td>5130.0</td>\n",
       "      <td>Americas</td>\n",
       "      <td>Caribbean</td>\n",
       "      <td>NaN</td>\n",
       "      <td>26</td>\n",
       "      <td>2.60</td>\n",
       "      <td>3.50</td>\n",
       "      <td>1.50</td>\n",
       "      <td>4.90</td>\n",
       "      <td>-6.7</td>\n",
       "      <td>56.1</td>\n",
       "      <td>6.6</td>\n",
       "      <td>1.37</td>\n",
       "    </tr>\n",
       "    <tr>\n",
       "      <th>168</th>\n",
       "      <td>New Caledonia</td>\n",
       "      <td>CFP franc</td>\n",
       "      <td>Nouméa</td>\n",
       "      <td>French</td>\n",
       "      <td>-21.500000</td>\n",
       "      <td>165.500000</td>\n",
       "      <td>18575.0</td>\n",
       "      <td>Oceania</td>\n",
       "      <td>Melanesia</td>\n",
       "      <td>NaN</td>\n",
       "      <td>10</td>\n",
       "      <td>NaN</td>\n",
       "      <td>2.00</td>\n",
       "      <td>0.80</td>\n",
       "      <td>11.20</td>\n",
       "      <td>NaN</td>\n",
       "      <td>NaN</td>\n",
       "      <td>NaN</td>\n",
       "      <td>0.29</td>\n",
       "    </tr>\n",
       "    <tr>\n",
       "      <th>171</th>\n",
       "      <td>Fiji</td>\n",
       "      <td>Fijian dollar</td>\n",
       "      <td>Suva</td>\n",
       "      <td>English</td>\n",
       "      <td>-17.713400</td>\n",
       "      <td>178.065000</td>\n",
       "      <td>18272.0</td>\n",
       "      <td>Oceania</td>\n",
       "      <td>Melanesia</td>\n",
       "      <td>NaN</td>\n",
       "      <td>6</td>\n",
       "      <td>NaN</td>\n",
       "      <td>0.25</td>\n",
       "      <td>-0.40</td>\n",
       "      <td>4.30</td>\n",
       "      <td>-3.4</td>\n",
       "      <td>78.3</td>\n",
       "      <td>-8.7</td>\n",
       "      <td>0.93</td>\n",
       "    </tr>\n",
       "    <tr>\n",
       "      <th>172</th>\n",
       "      <td>Jamaica</td>\n",
       "      <td>Jamaican dollar</td>\n",
       "      <td>Kingston</td>\n",
       "      <td>English</td>\n",
       "      <td>18.250000</td>\n",
       "      <td>-77.500000</td>\n",
       "      <td>10991.0</td>\n",
       "      <td>Americas</td>\n",
       "      <td>Caribbean</td>\n",
       "      <td>NaN</td>\n",
       "      <td>20</td>\n",
       "      <td>0.80</td>\n",
       "      <td>5.75</td>\n",
       "      <td>3.30</td>\n",
       "      <td>3.30</td>\n",
       "      <td>-1.0</td>\n",
       "      <td>67.9</td>\n",
       "      <td>1.3</td>\n",
       "      <td>2.82</td>\n",
       "    </tr>\n",
       "  </tbody>\n",
       "</table>\n",
       "</div>"
      ],
      "text/plain": [
       "                    name                    currency        capital  \\\n",
       "3            Puerto Rico        United States dollar       San Juan   \n",
       "13                 Malta                        Euro       Valletta   \n",
       "34           Philippines             Philippine peso         Manila   \n",
       "46           New Zealand          New Zealand dollar     Wellington   \n",
       "54              Maldives           Maldivian rufiyaa           Malé   \n",
       "68                  Cuba      Cuban convertible peso         Havana   \n",
       "70             Mauritius             Mauritian rupee     Port Louis   \n",
       "74            Cape Verde         Cape Verdean escudo          Praia   \n",
       "78                Taiwan           New Taiwan dollar         Taipei   \n",
       "96               Comoros              Comorian franc         Moroni   \n",
       "106               Cyprus                        Euro        Nicosia   \n",
       "109            Singapore            Singapore dollar      Singapore   \n",
       "118           Seychelles           Seychellois rupee       Victoria   \n",
       "135           Madagascar             Malagasy ariary   Antananarivo   \n",
       "139              Bahrain              Bahraini dinar         Manama   \n",
       "144            Australia           Australian dollar       Canberra   \n",
       "148              Bahamas             Bahamian dollar         Nassau   \n",
       "151              Iceland             Icelandic króna      Reykjavik   \n",
       "152                Japan                Japanese yen          Tokyo   \n",
       "161       Cayman Islands       Cayman Islands dollar    George Town   \n",
       "164  Trinidad and Tobago  Trinidad and Tobago dollar  Port of Spain   \n",
       "168        New Caledonia                   CFP franc         Nouméa   \n",
       "171                 Fiji               Fijian dollar           Suva   \n",
       "172              Jamaica             Jamaican dollar       Kingston   \n",
       "\n",
       "              languages   latitude   longitude       area    region  \\\n",
       "3               English  18.250000  -66.500000     8870.0  Americas   \n",
       "13              English  35.937500   14.375400      316.0    Europe   \n",
       "34              English  13.000000  122.000000   342353.0      Asia   \n",
       "46              English -41.000000  174.000000   270467.0   Oceania   \n",
       "54            Maldivian   3.250000   73.000000      300.0      Asia   \n",
       "68              Spanish  21.500000  -80.000000   109884.0  Americas   \n",
       "70              English -20.283333   57.550000     2040.0    Africa   \n",
       "74           Portuguese  16.538800  -23.041800     4033.0    Africa   \n",
       "78              Chinese  23.500000  121.000000    36193.0      Asia   \n",
       "96               Arabic -12.166667   44.250000     1862.0    Africa   \n",
       "106               Greek  35.000000   33.000000     9251.0    Europe   \n",
       "109             English   1.366667  103.800000      710.0      Asia   \n",
       "118  Seychellois Creole  -4.583333   55.666667      452.0    Africa   \n",
       "135              French -20.000000   47.000000   587041.0    Africa   \n",
       "139              Arabic  26.000000   50.550000      765.0      Asia   \n",
       "144             English -27.000000  133.000000  7692024.0   Oceania   \n",
       "148             English  25.034300  -77.396300    13943.0  Americas   \n",
       "151           Icelandic  65.000000  -18.000000   103000.0    Europe   \n",
       "152            Japanese  36.000000  138.000000   377930.0      Asia   \n",
       "161             English  19.313300  -81.254600      264.0  Americas   \n",
       "164             English  10.691800  -61.222500     5130.0  Americas   \n",
       "168              French -21.500000  165.500000    18575.0   Oceania   \n",
       "171             English -17.713400  178.065000    18272.0   Oceania   \n",
       "172             English  18.250000  -77.500000    10991.0  Americas   \n",
       "\n",
       "                     subregion borders   GDP  GDP Growth  Interest Rate  \\\n",
       "3                    Caribbean     NaN   126         NaN            NaN   \n",
       "13             Southern Europe     NaN    24        2.10           2.15   \n",
       "34          South-Eastern Asia     NaN   462        1.50           5.25   \n",
       "46   Australia and New Zealand     NaN   260        0.80           3.00   \n",
       "54               Southern Asia     NaN     7         NaN           7.00   \n",
       "68                   Caribbean     NaN   107         NaN           2.25   \n",
       "70              Eastern Africa     NaN    15        0.90           4.50   \n",
       "74              Western Africa     NaN     3       -3.00           2.50   \n",
       "78                Eastern Asia     NaN   757        3.05           2.00   \n",
       "96              Eastern Africa     NaN     2         NaN           3.08   \n",
       "106            Southern Europe     NaN    36        0.50           2.15   \n",
       "109         South-Eastern Asia     NaN   547        1.40           1.51   \n",
       "118             Eastern Africa     NaN     2         NaN           1.75   \n",
       "135             Eastern Africa     NaN    17         NaN          12.00   \n",
       "139               Western Asia     NaN    48       -7.57           5.25   \n",
       "144  Australia and New Zealand     NaN  1752        0.20           3.60   \n",
       "148                  Caribbean     NaN    16         NaN           4.00   \n",
       "151            Northern Europe     NaN    33        2.70           7.50   \n",
       "152               Eastern Asia     NaN  4026        0.30           0.50   \n",
       "161                  Caribbean     NaN     7         NaN            NaN   \n",
       "164                  Caribbean     NaN    26        2.60           3.50   \n",
       "168                  Melanesia     NaN    10         NaN           2.00   \n",
       "171                  Melanesia     NaN     6         NaN           0.25   \n",
       "172                  Caribbean     NaN    20        0.80           5.75   \n",
       "\n",
       "     Inflation Rate  Jobless Rate  Gov. Budget  Debt/GDP  Current Account  \\\n",
       "3              1.20          5.70          NaN       NaN              NaN   \n",
       "13             2.50          2.70         -3.7      47.4              5.7   \n",
       "34             0.90          3.70         -5.7      60.7             -3.8   \n",
       "46             2.70          5.20         -3.1      45.2             -5.7   \n",
       "54             3.80          4.60        -12.5      62.4            -20.4   \n",
       "68            14.37          1.50        -11.1     119.0             -0.5   \n",
       "70             5.20          6.00         -5.7      82.1             -4.2   \n",
       "74             2.70         11.90         -2.9     109.2             -5.8   \n",
       "78             1.54          3.33          0.4      28.2             15.7   \n",
       "96             4.40          3.90         -3.2      28.4             -3.5   \n",
       "106           -0.90          3.80          4.3      65.0             -8.4   \n",
       "109            0.80          2.10         -1.6     173.1             17.5   \n",
       "118            0.64          3.20          0.1      61.0             -7.5   \n",
       "135            8.10          3.00         -3.8      38.8             -4.5   \n",
       "139           -0.40          6.30         -5.6     134.0              5.3   \n",
       "144            2.10          4.20          0.6      43.8             -2.1   \n",
       "148           -0.40          9.40         -1.3      81.5             -7.9   \n",
       "151            4.00          2.80         -3.4      59.3             -2.7   \n",
       "152            3.10          2.50         -2.3     236.7              4.7   \n",
       "161            1.80          2.80         -1.1       7.6             -7.7   \n",
       "164            1.50          4.90         -6.7      56.1              6.6   \n",
       "168            0.80         11.20          NaN       NaN              NaN   \n",
       "171           -0.40          4.30         -3.4      78.3             -8.7   \n",
       "172            3.30          3.30         -1.0      67.9              1.3   \n",
       "\n",
       "     Population  \n",
       "3          3.20  \n",
       "13         0.57  \n",
       "34       112.90  \n",
       "46         5.36  \n",
       "54         0.53  \n",
       "68         9.75  \n",
       "70         1.26  \n",
       "74         0.59  \n",
       "78        23.40  \n",
       "96         0.87  \n",
       "106        0.98  \n",
       "109        6.04  \n",
       "118        0.10  \n",
       "135       31.96  \n",
       "139        1.59  \n",
       "144       27.40  \n",
       "148        0.41  \n",
       "151        0.39  \n",
       "152      120.65  \n",
       "161        0.09  \n",
       "164        1.37  \n",
       "168        0.29  \n",
       "171        0.93  \n",
       "172        2.82  "
      ]
     },
     "execution_count": 22,
     "metadata": {},
     "output_type": "execute_result"
    }
   ],
   "source": [
    "cleaned_data[cleaned_data['borders'].isna()]"
   ]
  },
  {
   "cell_type": "code",
   "execution_count": 23,
   "id": "280feac5-b395-4a23-b3dc-70d51d70aa18",
   "metadata": {},
   "outputs": [
    {
     "data": {
      "text/html": [
       "<div>\n",
       "<style scoped>\n",
       "    .dataframe tbody tr th:only-of-type {\n",
       "        vertical-align: middle;\n",
       "    }\n",
       "\n",
       "    .dataframe tbody tr th {\n",
       "        vertical-align: top;\n",
       "    }\n",
       "\n",
       "    .dataframe thead th {\n",
       "        text-align: right;\n",
       "    }\n",
       "</style>\n",
       "<table border=\"1\" class=\"dataframe\">\n",
       "  <thead>\n",
       "    <tr style=\"text-align: right;\">\n",
       "      <th></th>\n",
       "      <th>name</th>\n",
       "      <th>currency</th>\n",
       "      <th>capital</th>\n",
       "      <th>languages</th>\n",
       "      <th>latitude</th>\n",
       "      <th>longitude</th>\n",
       "      <th>area</th>\n",
       "      <th>region</th>\n",
       "      <th>subregion</th>\n",
       "      <th>borders</th>\n",
       "      <th>GDP</th>\n",
       "      <th>GDP Growth</th>\n",
       "      <th>Interest Rate</th>\n",
       "      <th>Inflation Rate</th>\n",
       "      <th>Jobless Rate</th>\n",
       "      <th>Gov. Budget</th>\n",
       "      <th>Debt/GDP</th>\n",
       "      <th>Current Account</th>\n",
       "      <th>Population</th>\n",
       "    </tr>\n",
       "  </thead>\n",
       "  <tbody>\n",
       "    <tr>\n",
       "      <th>3</th>\n",
       "      <td>Puerto Rico</td>\n",
       "      <td>United States dollar</td>\n",
       "      <td>San Juan</td>\n",
       "      <td>English</td>\n",
       "      <td>18.250000</td>\n",
       "      <td>-66.500000</td>\n",
       "      <td>8870.0</td>\n",
       "      <td>Americas</td>\n",
       "      <td>Caribbean</td>\n",
       "      <td>NaN</td>\n",
       "      <td>126</td>\n",
       "      <td>NaN</td>\n",
       "      <td>NaN</td>\n",
       "      <td>1.20</td>\n",
       "      <td>5.7</td>\n",
       "      <td>NaN</td>\n",
       "      <td>NaN</td>\n",
       "      <td>NaN</td>\n",
       "      <td>3.20</td>\n",
       "    </tr>\n",
       "    <tr>\n",
       "      <th>7</th>\n",
       "      <td>Myanmar</td>\n",
       "      <td>Burmese kyat</td>\n",
       "      <td>Naypyidaw</td>\n",
       "      <td>Burmese</td>\n",
       "      <td>22.000000</td>\n",
       "      <td>98.000000</td>\n",
       "      <td>676578.0</td>\n",
       "      <td>Asia</td>\n",
       "      <td>South-Eastern Asia</td>\n",
       "      <td>['BGD', 'CHN', 'IND', 'LAO', 'THA']</td>\n",
       "      <td>74</td>\n",
       "      <td>NaN</td>\n",
       "      <td>9.00</td>\n",
       "      <td>28.58</td>\n",
       "      <td>3.0</td>\n",
       "      <td>-5.7</td>\n",
       "      <td>61.30</td>\n",
       "      <td>-5.5</td>\n",
       "      <td>54.50</td>\n",
       "    </tr>\n",
       "    <tr>\n",
       "      <th>9</th>\n",
       "      <td>Afghanistan</td>\n",
       "      <td>Afghan afghani</td>\n",
       "      <td>Kabul</td>\n",
       "      <td>Dari</td>\n",
       "      <td>33.000000</td>\n",
       "      <td>65.000000</td>\n",
       "      <td>652230.0</td>\n",
       "      <td>Asia</td>\n",
       "      <td>Southern Asia</td>\n",
       "      <td>['IRN', 'PAK', 'TKM', 'UZB', 'TJK', 'CHN']</td>\n",
       "      <td>17</td>\n",
       "      <td>NaN</td>\n",
       "      <td>14.94</td>\n",
       "      <td>0.20</td>\n",
       "      <td>13.3</td>\n",
       "      <td>-4.8</td>\n",
       "      <td>8.30</td>\n",
       "      <td>-17.3</td>\n",
       "      <td>35.70</td>\n",
       "    </tr>\n",
       "    <tr>\n",
       "      <th>12</th>\n",
       "      <td>Bhutan</td>\n",
       "      <td>Bhutanese ngultrum</td>\n",
       "      <td>Thimphu</td>\n",
       "      <td>Dzongkha</td>\n",
       "      <td>27.500000</td>\n",
       "      <td>90.500000</td>\n",
       "      <td>38394.0</td>\n",
       "      <td>Asia</td>\n",
       "      <td>Southern Asia</td>\n",
       "      <td>['CHN', 'IND']</td>\n",
       "      <td>3</td>\n",
       "      <td>NaN</td>\n",
       "      <td>6.38</td>\n",
       "      <td>3.65</td>\n",
       "      <td>3.6</td>\n",
       "      <td>-0.2</td>\n",
       "      <td>107.78</td>\n",
       "      <td>-21.7</td>\n",
       "      <td>0.78</td>\n",
       "    </tr>\n",
       "    <tr>\n",
       "      <th>15</th>\n",
       "      <td>Nepal</td>\n",
       "      <td>Nepalese rupee</td>\n",
       "      <td>Kathmandu</td>\n",
       "      <td>Nepali</td>\n",
       "      <td>28.000000</td>\n",
       "      <td>84.000000</td>\n",
       "      <td>147181.0</td>\n",
       "      <td>Asia</td>\n",
       "      <td>Southern Asia</td>\n",
       "      <td>['CHN', 'IND']</td>\n",
       "      <td>43</td>\n",
       "      <td>NaN</td>\n",
       "      <td>6.00</td>\n",
       "      <td>2.72</td>\n",
       "      <td>10.7</td>\n",
       "      <td>-9.0</td>\n",
       "      <td>42.60</td>\n",
       "      <td>5.2</td>\n",
       "      <td>29.65</td>\n",
       "    </tr>\n",
       "    <tr>\n",
       "      <th>...</th>\n",
       "      <td>...</td>\n",
       "      <td>...</td>\n",
       "      <td>...</td>\n",
       "      <td>...</td>\n",
       "      <td>...</td>\n",
       "      <td>...</td>\n",
       "      <td>...</td>\n",
       "      <td>...</td>\n",
       "      <td>...</td>\n",
       "      <td>...</td>\n",
       "      <td>...</td>\n",
       "      <td>...</td>\n",
       "      <td>...</td>\n",
       "      <td>...</td>\n",
       "      <td>...</td>\n",
       "      <td>...</td>\n",
       "      <td>...</td>\n",
       "      <td>...</td>\n",
       "      <td>...</td>\n",
       "    </tr>\n",
       "    <tr>\n",
       "      <th>162</th>\n",
       "      <td>Gabon</td>\n",
       "      <td>Central African CFA franc</td>\n",
       "      <td>Libreville</td>\n",
       "      <td>French</td>\n",
       "      <td>-1.000000</td>\n",
       "      <td>11.750000</td>\n",
       "      <td>267668.0</td>\n",
       "      <td>Africa</td>\n",
       "      <td>Middle Africa</td>\n",
       "      <td>['CMR', 'COG', 'GNQ']</td>\n",
       "      <td>21</td>\n",
       "      <td>NaN</td>\n",
       "      <td>4.50</td>\n",
       "      <td>0.70</td>\n",
       "      <td>20.1</td>\n",
       "      <td>-3.0</td>\n",
       "      <td>73.40</td>\n",
       "      <td>5.1</td>\n",
       "      <td>2.54</td>\n",
       "    </tr>\n",
       "    <tr>\n",
       "      <th>166</th>\n",
       "      <td>Macau</td>\n",
       "      <td>Macanese pataca</td>\n",
       "      <td>Beijing</td>\n",
       "      <td>Portuguese</td>\n",
       "      <td>22.166667</td>\n",
       "      <td>113.550000</td>\n",
       "      <td>30.0</td>\n",
       "      <td>Asia</td>\n",
       "      <td>Eastern Asia</td>\n",
       "      <td>['CHN']</td>\n",
       "      <td>50</td>\n",
       "      <td>NaN</td>\n",
       "      <td>4.75</td>\n",
       "      <td>0.12</td>\n",
       "      <td>1.9</td>\n",
       "      <td>NaN</td>\n",
       "      <td>NaN</td>\n",
       "      <td>31.4</td>\n",
       "      <td>0.69</td>\n",
       "    </tr>\n",
       "    <tr>\n",
       "      <th>168</th>\n",
       "      <td>New Caledonia</td>\n",
       "      <td>CFP franc</td>\n",
       "      <td>Nouméa</td>\n",
       "      <td>French</td>\n",
       "      <td>-21.500000</td>\n",
       "      <td>165.500000</td>\n",
       "      <td>18575.0</td>\n",
       "      <td>Oceania</td>\n",
       "      <td>Melanesia</td>\n",
       "      <td>NaN</td>\n",
       "      <td>10</td>\n",
       "      <td>NaN</td>\n",
       "      <td>2.00</td>\n",
       "      <td>0.80</td>\n",
       "      <td>11.2</td>\n",
       "      <td>NaN</td>\n",
       "      <td>NaN</td>\n",
       "      <td>NaN</td>\n",
       "      <td>0.29</td>\n",
       "    </tr>\n",
       "    <tr>\n",
       "      <th>169</th>\n",
       "      <td>Kosovo</td>\n",
       "      <td>Euro</td>\n",
       "      <td>Pristina</td>\n",
       "      <td>Albanian</td>\n",
       "      <td>42.666667</td>\n",
       "      <td>21.166667</td>\n",
       "      <td>10908.0</td>\n",
       "      <td>Europe</td>\n",
       "      <td>Southeast Europe</td>\n",
       "      <td>['ALB', 'MKD', 'MNE', 'SRB']</td>\n",
       "      <td>11</td>\n",
       "      <td>NaN</td>\n",
       "      <td>NaN</td>\n",
       "      <td>4.30</td>\n",
       "      <td>10.8</td>\n",
       "      <td>0.2</td>\n",
       "      <td>16.90</td>\n",
       "      <td>-9.0</td>\n",
       "      <td>1.60</td>\n",
       "    </tr>\n",
       "    <tr>\n",
       "      <th>171</th>\n",
       "      <td>Fiji</td>\n",
       "      <td>Fijian dollar</td>\n",
       "      <td>Suva</td>\n",
       "      <td>English</td>\n",
       "      <td>-17.713400</td>\n",
       "      <td>178.065000</td>\n",
       "      <td>18272.0</td>\n",
       "      <td>Oceania</td>\n",
       "      <td>Melanesia</td>\n",
       "      <td>NaN</td>\n",
       "      <td>6</td>\n",
       "      <td>NaN</td>\n",
       "      <td>0.25</td>\n",
       "      <td>-0.40</td>\n",
       "      <td>4.3</td>\n",
       "      <td>-3.4</td>\n",
       "      <td>78.30</td>\n",
       "      <td>-8.7</td>\n",
       "      <td>0.93</td>\n",
       "    </tr>\n",
       "  </tbody>\n",
       "</table>\n",
       "<p>72 rows × 19 columns</p>\n",
       "</div>"
      ],
      "text/plain": [
       "              name                   currency     capital   languages  \\\n",
       "3      Puerto Rico       United States dollar    San Juan     English   \n",
       "7          Myanmar               Burmese kyat   Naypyidaw     Burmese   \n",
       "9      Afghanistan             Afghan afghani       Kabul        Dari   \n",
       "12          Bhutan         Bhutanese ngultrum     Thimphu    Dzongkha   \n",
       "15           Nepal             Nepalese rupee   Kathmandu      Nepali   \n",
       "..             ...                        ...         ...         ...   \n",
       "162          Gabon  Central African CFA franc  Libreville      French   \n",
       "166          Macau            Macanese pataca     Beijing  Portuguese   \n",
       "168  New Caledonia                  CFP franc      Nouméa      French   \n",
       "169         Kosovo                       Euro    Pristina    Albanian   \n",
       "171           Fiji              Fijian dollar        Suva     English   \n",
       "\n",
       "      latitude   longitude      area    region           subregion  \\\n",
       "3    18.250000  -66.500000    8870.0  Americas           Caribbean   \n",
       "7    22.000000   98.000000  676578.0      Asia  South-Eastern Asia   \n",
       "9    33.000000   65.000000  652230.0      Asia       Southern Asia   \n",
       "12   27.500000   90.500000   38394.0      Asia       Southern Asia   \n",
       "15   28.000000   84.000000  147181.0      Asia       Southern Asia   \n",
       "..         ...         ...       ...       ...                 ...   \n",
       "162  -1.000000   11.750000  267668.0    Africa       Middle Africa   \n",
       "166  22.166667  113.550000      30.0      Asia        Eastern Asia   \n",
       "168 -21.500000  165.500000   18575.0   Oceania           Melanesia   \n",
       "169  42.666667   21.166667   10908.0    Europe    Southeast Europe   \n",
       "171 -17.713400  178.065000   18272.0   Oceania           Melanesia   \n",
       "\n",
       "                                        borders  GDP  GDP Growth  \\\n",
       "3                                           NaN  126         NaN   \n",
       "7           ['BGD', 'CHN', 'IND', 'LAO', 'THA']   74         NaN   \n",
       "9    ['IRN', 'PAK', 'TKM', 'UZB', 'TJK', 'CHN']   17         NaN   \n",
       "12                               ['CHN', 'IND']    3         NaN   \n",
       "15                               ['CHN', 'IND']   43         NaN   \n",
       "..                                          ...  ...         ...   \n",
       "162                       ['CMR', 'COG', 'GNQ']   21         NaN   \n",
       "166                                     ['CHN']   50         NaN   \n",
       "168                                         NaN   10         NaN   \n",
       "169                ['ALB', 'MKD', 'MNE', 'SRB']   11         NaN   \n",
       "171                                         NaN    6         NaN   \n",
       "\n",
       "     Interest Rate  Inflation Rate  Jobless Rate  Gov. Budget  Debt/GDP  \\\n",
       "3              NaN            1.20           5.7          NaN       NaN   \n",
       "7             9.00           28.58           3.0         -5.7     61.30   \n",
       "9            14.94            0.20          13.3         -4.8      8.30   \n",
       "12            6.38            3.65           3.6         -0.2    107.78   \n",
       "15            6.00            2.72          10.7         -9.0     42.60   \n",
       "..             ...             ...           ...          ...       ...   \n",
       "162           4.50            0.70          20.1         -3.0     73.40   \n",
       "166           4.75            0.12           1.9          NaN       NaN   \n",
       "168           2.00            0.80          11.2          NaN       NaN   \n",
       "169            NaN            4.30          10.8          0.2     16.90   \n",
       "171           0.25           -0.40           4.3         -3.4     78.30   \n",
       "\n",
       "     Current Account  Population  \n",
       "3                NaN        3.20  \n",
       "7               -5.5       54.50  \n",
       "9              -17.3       35.70  \n",
       "12             -21.7        0.78  \n",
       "15               5.2       29.65  \n",
       "..               ...         ...  \n",
       "162              5.1        2.54  \n",
       "166             31.4        0.69  \n",
       "168              NaN        0.29  \n",
       "169             -9.0        1.60  \n",
       "171             -8.7        0.93  \n",
       "\n",
       "[72 rows x 19 columns]"
      ]
     },
     "execution_count": 23,
     "metadata": {},
     "output_type": "execute_result"
    }
   ],
   "source": [
    "cleaned_data[cleaned_data['GDP Growth'].isna()]"
   ]
  },
  {
   "cell_type": "code",
   "execution_count": 24,
   "id": "5eec8809-dd6d-478a-976a-17669da66fee",
   "metadata": {},
   "outputs": [
    {
     "data": {
      "text/plain": [
       "0"
      ]
     },
     "execution_count": 24,
     "metadata": {},
     "output_type": "execute_result"
    }
   ],
   "source": [
    "average_GDP_Growth = cleaned_data['GDP Growth'].mean()\n",
    "cleaned_data['GDP Growth'] = cleaned_data['GDP Growth'].fillna(average_GDP_Growth)\n",
    "cleaned_data['GDP Growth'].isna().sum()"
   ]
  },
  {
   "cell_type": "code",
   "execution_count": 25,
   "id": "49a8d5f8-c852-4430-a0f9-1321b3b7534e",
   "metadata": {},
   "outputs": [
    {
     "data": {
      "text/plain": [
       "0"
      ]
     },
     "execution_count": 25,
     "metadata": {},
     "output_type": "execute_result"
    }
   ],
   "source": [
    "average_Interest_Rate = cleaned_data['Interest Rate'].mean()\n",
    "cleaned_data['Interest Rate'] = cleaned_data['Interest Rate'].fillna(average_Interest_Rate)\n",
    "cleaned_data['Interest Rate'].isna().sum()"
   ]
  },
  {
   "cell_type": "code",
   "execution_count": 26,
   "id": "96dbea50-1ade-4a57-ad70-ac26d9a5ad4e",
   "metadata": {},
   "outputs": [
    {
     "data": {
      "text/plain": [
       "0"
      ]
     },
     "execution_count": 26,
     "metadata": {},
     "output_type": "execute_result"
    }
   ],
   "source": [
    "average_Inflation_Rate = cleaned_data['Inflation Rate'].mean()\n",
    "cleaned_data['Inflation Rate'] = cleaned_data['Inflation Rate'].fillna(average_Inflation_Rate)\n",
    "cleaned_data['Inflation Rate'].isna().sum()"
   ]
  },
  {
   "cell_type": "code",
   "execution_count": 27,
   "id": "97ee59ef-36c5-48b2-89f6-ff71a6885c5e",
   "metadata": {},
   "outputs": [
    {
     "data": {
      "text/plain": [
       "0"
      ]
     },
     "execution_count": 27,
     "metadata": {},
     "output_type": "execute_result"
    }
   ],
   "source": [
    "average_Jobless_Rate = cleaned_data['Jobless Rate'].mean()\n",
    "cleaned_data['Jobless Rate'] = cleaned_data['Jobless Rate'].fillna(average_Jobless_Rate)\n",
    "cleaned_data['Jobless Rate'].isna().sum()"
   ]
  },
  {
   "cell_type": "code",
   "execution_count": 28,
   "id": "1a98123c-e3d9-42c8-94b3-a93ad91b389b",
   "metadata": {},
   "outputs": [
    {
     "data": {
      "text/plain": [
       "0"
      ]
     },
     "execution_count": 28,
     "metadata": {},
     "output_type": "execute_result"
    }
   ],
   "source": [
    "average_Gov_Budget = cleaned_data['Gov. Budget'].mean()\n",
    "cleaned_data['Gov. Budget'] = cleaned_data['Gov. Budget'].fillna(average_Gov_Budget)\n",
    "cleaned_data['Gov. Budget'].isna().sum()"
   ]
  },
  {
   "cell_type": "code",
   "execution_count": 29,
   "id": "95b4c7b1-d28a-4a7f-9df8-b6b050b19f27",
   "metadata": {},
   "outputs": [
    {
     "data": {
      "text/plain": [
       "0"
      ]
     },
     "execution_count": 29,
     "metadata": {},
     "output_type": "execute_result"
    }
   ],
   "source": [
    "average_Debt_GDP = cleaned_data['Debt/GDP'].mean()\n",
    "cleaned_data['Debt/GDP'] = cleaned_data['Debt/GDP'].fillna(average_Debt_GDP)\n",
    "cleaned_data['Debt/GDP'].isna().sum()"
   ]
  },
  {
   "cell_type": "code",
   "execution_count": 30,
   "id": "66e6ce71-b805-4ab8-a1e8-e0e1dfa4c56c",
   "metadata": {},
   "outputs": [
    {
     "data": {
      "text/plain": [
       "0"
      ]
     },
     "execution_count": 30,
     "metadata": {},
     "output_type": "execute_result"
    }
   ],
   "source": [
    "average_Current_Account = cleaned_data['Current Account'].mean()\n",
    "cleaned_data['Current Account'] = cleaned_data['Current Account'].fillna(average_Current_Account)\n",
    "cleaned_data['Current Account'].isna().sum()"
   ]
  },
  {
   "cell_type": "markdown",
   "id": "c268218a-1cd3-4726-a298-7627c1a09f39",
   "metadata": {},
   "source": [
    "### 处理重复数据"
   ]
  },
  {
   "cell_type": "markdown",
   "id": "254f8d27-8f28-45db-9ad6-a3f47fc83de8",
   "metadata": {},
   "source": [
    "根据数据变量的含义以及内容来看，name是国家或地区的唯一标识符，不应该存在重复，因此查看是否存在重复值。"
   ]
  },
  {
   "cell_type": "code",
   "execution_count": 33,
   "id": "0c8afd1f-558b-4855-a855-dd2ed33d9920",
   "metadata": {},
   "outputs": [
    {
     "data": {
      "text/plain": [
       "0"
      ]
     },
     "execution_count": 33,
     "metadata": {},
     "output_type": "execute_result"
    }
   ],
   "source": [
    "cleaned_data['name'].duplicated().sum()"
   ]
  },
  {
   "cell_type": "markdown",
   "id": "9e8ce10f-6c37-4cca-9897-e41333cc3ec8",
   "metadata": {},
   "source": [
    "输出结果为0，说明不存在重复值。"
   ]
  },
  {
   "cell_type": "markdown",
   "id": "0904b19d-6d87-4bde-a734-366fc7a805c2",
   "metadata": {},
   "source": [
    "### 处理无效或错误数据"
   ]
  },
  {
   "cell_type": "code",
   "execution_count": 36,
   "id": "228a1bed-8caf-45ab-ae60-4411183e6def",
   "metadata": {},
   "outputs": [
    {
     "data": {
      "text/html": [
       "<div>\n",
       "<style scoped>\n",
       "    .dataframe tbody tr th:only-of-type {\n",
       "        vertical-align: middle;\n",
       "    }\n",
       "\n",
       "    .dataframe tbody tr th {\n",
       "        vertical-align: top;\n",
       "    }\n",
       "\n",
       "    .dataframe thead th {\n",
       "        text-align: right;\n",
       "    }\n",
       "</style>\n",
       "<table border=\"1\" class=\"dataframe\">\n",
       "  <thead>\n",
       "    <tr style=\"text-align: right;\">\n",
       "      <th></th>\n",
       "      <th>latitude</th>\n",
       "      <th>longitude</th>\n",
       "      <th>area</th>\n",
       "      <th>GDP</th>\n",
       "      <th>GDP Growth</th>\n",
       "      <th>Interest Rate</th>\n",
       "      <th>Inflation Rate</th>\n",
       "      <th>Jobless Rate</th>\n",
       "      <th>Gov. Budget</th>\n",
       "      <th>Debt/GDP</th>\n",
       "      <th>Current Account</th>\n",
       "      <th>Population</th>\n",
       "    </tr>\n",
       "  </thead>\n",
       "  <tbody>\n",
       "    <tr>\n",
       "      <th>count</th>\n",
       "      <td>173.000000</td>\n",
       "      <td>173.000000</td>\n",
       "      <td>1.730000e+02</td>\n",
       "      <td>173.000000</td>\n",
       "      <td>173.000000</td>\n",
       "      <td>173.000000</td>\n",
       "      <td>173.000000</td>\n",
       "      <td>173.000000</td>\n",
       "      <td>173.000000</td>\n",
       "      <td>173.000000</td>\n",
       "      <td>173.000000</td>\n",
       "      <td>173.000000</td>\n",
       "    </tr>\n",
       "    <tr>\n",
       "      <th>mean</th>\n",
       "      <td>20.437142</td>\n",
       "      <td>22.371774</td>\n",
       "      <td>7.561437e+05</td>\n",
       "      <td>637.508671</td>\n",
       "      <td>1.115644</td>\n",
       "      <td>7.802222</td>\n",
       "      <td>8.348663</td>\n",
       "      <td>7.363099</td>\n",
       "      <td>-2.822831</td>\n",
       "      <td>60.945879</td>\n",
       "      <td>-0.545269</td>\n",
       "      <td>45.570058</td>\n",
       "    </tr>\n",
       "    <tr>\n",
       "      <th>std</th>\n",
       "      <td>23.961270</td>\n",
       "      <td>58.849734</td>\n",
       "      <td>2.007481e+06</td>\n",
       "      <td>2703.930867</td>\n",
       "      <td>2.913305</td>\n",
       "      <td>7.903770</td>\n",
       "      <td>21.304802</td>\n",
       "      <td>6.030628</td>\n",
       "      <td>4.178031</td>\n",
       "      <td>38.081092</td>\n",
       "      <td>8.715109</td>\n",
       "      <td>155.896870</td>\n",
       "    </tr>\n",
       "    <tr>\n",
       "      <th>min</th>\n",
       "      <td>-41.000000</td>\n",
       "      <td>-102.000000</td>\n",
       "      <td>2.020000e+00</td>\n",
       "      <td>2.000000</td>\n",
       "      <td>-23.700000</td>\n",
       "      <td>0.000000</td>\n",
       "      <td>-9.100000</td>\n",
       "      <td>0.100000</td>\n",
       "      <td>-17.600000</td>\n",
       "      <td>2.300000</td>\n",
       "      <td>-31.500000</td>\n",
       "      <td>0.040000</td>\n",
       "    </tr>\n",
       "    <tr>\n",
       "      <th>25%</th>\n",
       "      <td>6.500000</td>\n",
       "      <td>-2.000000</td>\n",
       "      <td>3.839400e+04</td>\n",
       "      <td>20.000000</td>\n",
       "      <td>0.600000</td>\n",
       "      <td>3.000000</td>\n",
       "      <td>1.300000</td>\n",
       "      <td>3.200000</td>\n",
       "      <td>-4.900000</td>\n",
       "      <td>36.500000</td>\n",
       "      <td>-4.600000</td>\n",
       "      <td>3.540000</td>\n",
       "    </tr>\n",
       "    <tr>\n",
       "      <th>50%</th>\n",
       "      <td>20.000000</td>\n",
       "      <td>24.000000</td>\n",
       "      <td>1.810350e+05</td>\n",
       "      <td>72.000000</td>\n",
       "      <td>1.115644</td>\n",
       "      <td>5.250000</td>\n",
       "      <td>3.400000</td>\n",
       "      <td>5.300000</td>\n",
       "      <td>-3.000000</td>\n",
       "      <td>56.100000</td>\n",
       "      <td>-0.800000</td>\n",
       "      <td>10.580000</td>\n",
       "    </tr>\n",
       "    <tr>\n",
       "      <th>75%</th>\n",
       "      <td>40.000000</td>\n",
       "      <td>49.000000</td>\n",
       "      <td>5.870410e+05</td>\n",
       "      <td>373.000000</td>\n",
       "      <td>1.115644</td>\n",
       "      <td>8.500000</td>\n",
       "      <td>5.300000</td>\n",
       "      <td>9.100000</td>\n",
       "      <td>-1.200000</td>\n",
       "      <td>73.500000</td>\n",
       "      <td>3.100000</td>\n",
       "      <td>34.430000</td>\n",
       "    </tr>\n",
       "    <tr>\n",
       "      <th>max</th>\n",
       "      <td>65.000000</td>\n",
       "      <td>178.065000</td>\n",
       "      <td>1.709824e+07</td>\n",
       "      <td>29185.000000</td>\n",
       "      <td>18.600000</td>\n",
       "      <td>59.230000</td>\n",
       "      <td>172.000000</td>\n",
       "      <td>33.200000</td>\n",
       "      <td>21.600000</td>\n",
       "      <td>272.000000</td>\n",
       "      <td>31.400000</td>\n",
       "      <td>1408.000000</td>\n",
       "    </tr>\n",
       "  </tbody>\n",
       "</table>\n",
       "</div>"
      ],
      "text/plain": [
       "         latitude   longitude          area           GDP  GDP Growth  \\\n",
       "count  173.000000  173.000000  1.730000e+02    173.000000  173.000000   \n",
       "mean    20.437142   22.371774  7.561437e+05    637.508671    1.115644   \n",
       "std     23.961270   58.849734  2.007481e+06   2703.930867    2.913305   \n",
       "min    -41.000000 -102.000000  2.020000e+00      2.000000  -23.700000   \n",
       "25%      6.500000   -2.000000  3.839400e+04     20.000000    0.600000   \n",
       "50%     20.000000   24.000000  1.810350e+05     72.000000    1.115644   \n",
       "75%     40.000000   49.000000  5.870410e+05    373.000000    1.115644   \n",
       "max     65.000000  178.065000  1.709824e+07  29185.000000   18.600000   \n",
       "\n",
       "       Interest Rate  Inflation Rate  Jobless Rate  Gov. Budget    Debt/GDP  \\\n",
       "count     173.000000      173.000000    173.000000   173.000000  173.000000   \n",
       "mean        7.802222        8.348663      7.363099    -2.822831   60.945879   \n",
       "std         7.903770       21.304802      6.030628     4.178031   38.081092   \n",
       "min         0.000000       -9.100000      0.100000   -17.600000    2.300000   \n",
       "25%         3.000000        1.300000      3.200000    -4.900000   36.500000   \n",
       "50%         5.250000        3.400000      5.300000    -3.000000   56.100000   \n",
       "75%         8.500000        5.300000      9.100000    -1.200000   73.500000   \n",
       "max        59.230000      172.000000     33.200000    21.600000  272.000000   \n",
       "\n",
       "       Current Account   Population  \n",
       "count       173.000000   173.000000  \n",
       "mean         -0.545269    45.570058  \n",
       "std           8.715109   155.896870  \n",
       "min         -31.500000     0.040000  \n",
       "25%          -4.600000     3.540000  \n",
       "50%          -0.800000    10.580000  \n",
       "75%           3.100000    34.430000  \n",
       "max          31.400000  1408.000000  "
      ]
     },
     "execution_count": 36,
     "metadata": {},
     "output_type": "execute_result"
    }
   ],
   "source": [
    "cleaned_data.describe()"
   ]
  },
  {
   "cell_type": "markdown",
   "id": "bd8b5f50-849d-45d9-a39a-fff416f88aaf",
   "metadata": {},
   "source": [
    "## 探索数据"
   ]
  },
  {
   "cell_type": "code",
   "execution_count": 38,
   "id": "cde97827-c246-49ba-befb-b15f1f26db23",
   "metadata": {},
   "outputs": [],
   "source": [
    "#设置图表颜色盘为pastel\n",
    "sns.set_palette(\"pastel\")"
   ]
  },
  {
   "cell_type": "code",
   "execution_count": 39,
   "id": "ae4bf827-3ae5-49a9-8fe4-f85b1d0dca6a",
   "metadata": {},
   "outputs": [],
   "source": [
    "#设置图表尺寸\n",
    "plt.rcParams[\"figure.figsize\"] = [7.00, 3.50]\n",
    "plt.rcParams[\"figure.autolayout\"] = True"
   ]
  },
  {
   "cell_type": "markdown",
   "id": "8f822aea-2ef1-41a5-8d11-4434773d2152",
   "metadata": {},
   "source": [
    "### 货币比例"
   ]
  },
  {
   "cell_type": "code",
   "execution_count": 41,
   "id": "656bf3db-db3b-45bc-b85b-5e88f9e0e8dc",
   "metadata": {},
   "outputs": [
    {
     "data": {
      "image/png": "[encoded data removed]",
      "text/plain": [
       "<Figure size 700x350 with 1 Axes>"
      ]
     },
     "metadata": {},
     "output_type": "display_data"
    }
   ],
   "source": [
    "currency_count = cleaned_data['currency'].value_counts().head(10)\n",
    "currency_label = currency_count.index\n",
    "plt.pie(currency_count, labels = currency_label, autopct = '%.1f%%')\n",
    "plt.show()"
   ]
  },
  {
   "cell_type": "markdown",
   "id": "d4962ce2-4d20-4600-b559-09d303341f20",
   "metadata": {},
   "source": [
    "### 语言比例"
   ]
  },
  {
   "cell_type": "code",
   "execution_count": 43,
   "id": "1754ee9b-c26a-4489-ba31-83d11df7ae9d",
   "metadata": {},
   "outputs": [
    {
     "data": {
      "image/png": "[encoded data removed]",
      "text/plain": [
       "<Figure size 700x350 with 1 Axes>"
      ]
     },
     "metadata": {},
     "output_type": "display_data"
    }
   ],
   "source": [
    "languages_count = cleaned_data['languages'].value_counts().head(10)\n",
    "languages_label = languages_count.index\n",
    "plt.pie(languages_count, labels = languages_label, autopct = '%.1f%%')\n",
    "plt.show()"
   ]
  },
  {
   "cell_type": "markdown",
   "id": "3eed583f-7d1f-4f8e-9108-a5c23c974a77",
   "metadata": {},
   "source": [
    "### 地区比例"
   ]
  },
  {
   "cell_type": "code",
   "execution_count": 45,
   "id": "66510ac6-07e9-488f-8a0f-e8f4c4a9fbe6",
   "metadata": {},
   "outputs": [
    {
     "data": {
      "image/png": "[encoded data removed]",
      "text/plain": [
       "<Figure size 700x350 with 1 Axes>"
      ]
     },
     "metadata": {},
     "output_type": "display_data"
    }
   ],
   "source": [
    "region_count = cleaned_data['region'].value_counts()\n",
    "region_label = region_count.index\n",
    "plt.pie(region_count, labels = region_label, autopct = '%.1f%%')\n",
    "plt.show()"
   ]
  },
  {
   "cell_type": "markdown",
   "id": "c8045482-acd9-49cb-b7f8-33bbd465429c",
   "metadata": {},
   "source": [
    "### GDP增长"
   ]
  },
  {
   "cell_type": "code",
   "execution_count": 47,
   "id": "15335d2b-4a27-4da3-bdb5-5a36304d6bd7",
   "metadata": {},
   "outputs": [
    {
     "data": {
      "image/png": "[encoded data removed]",
      "text/plain": [
       "<Figure size 700x350 with 2 Axes>"
      ]
     },
     "metadata": {},
     "output_type": "display_data"
    }
   ],
   "source": [
    "figure, axes = plt.subplots(1, 2)\n",
    "sns.histplot(cleaned_data, x = 'GDP Growth', ax = axes[0])\n",
    "sns.boxplot(cleaned_data, y = 'GDP Growth', ax = axes[1])\n",
    "plt.show()"
   ]
  },
  {
   "cell_type": "markdown",
   "id": "53c30279-8da9-4338-a75d-2601fb6a5738",
   "metadata": {},
   "source": [
    "### GDP"
   ]
  },
  {
   "cell_type": "code",
   "execution_count": 49,
   "id": "da80cc1d-44b6-4018-9420-673388fac582",
   "metadata": {},
   "outputs": [
    {
     "data": {
      "image/png": "[encoded data removed]",
      "text/plain": [
       "<Figure size 700x350 with 2 Axes>"
      ]
     },
     "metadata": {},
     "output_type": "display_data"
    }
   ],
   "source": [
    "figure, axes = plt.subplots(1, 2)\n",
    "sns.histplot(cleaned_data, x = 'GDP', ax = axes[0])\n",
    "sns.boxplot(cleaned_data, y = 'GDP', ax = axes[1])\n",
    "plt.show()"
   ]
  },
  {
   "cell_type": "markdown",
   "id": "e77ce665-9acd-4806-a1a4-75cc014205c8",
   "metadata": {},
   "source": [
    "### 通货膨胀率"
   ]
  },
  {
   "cell_type": "code",
   "execution_count": 51,
   "id": "160e0c2f-d784-4ac2-8d29-2917e6a622c3",
   "metadata": {},
   "outputs": [
    {
     "data": {
      "image/png": "[encoded data removed]",
      "text/plain": [
       "<Figure size 700x350 with 2 Axes>"
      ]
     },
     "metadata": {},
     "output_type": "display_data"
    }
   ],
   "source": [
    "figure, axes = plt.subplots(1, 2)\n",
    "sns.histplot(cleaned_data, x = 'Inflation Rate', ax = axes[0])\n",
    "sns.boxplot(cleaned_data, y = 'Inflation Rate', ax = axes[1])\n",
    "plt.show()"
   ]
  },
  {
   "cell_type": "markdown",
   "id": "b5428896-3288-4da3-8ed8-c3b1e197dc83",
   "metadata": {},
   "source": [
    "### 利率"
   ]
  },
  {
   "cell_type": "code",
   "execution_count": 53,
   "id": "3140d78b-1f1c-4b7a-8c28-fe9f80849442",
   "metadata": {},
   "outputs": [
    {
     "data": {
      "image/png": "[encoded data removed]",
      "text/plain": [
       "<Figure size 700x350 with 2 Axes>"
      ]
     },
     "metadata": {},
     "output_type": "display_data"
    }
   ],
   "source": [
    "figure, axes = plt.subplots(1, 2)\n",
    "sns.histplot(cleaned_data, x = 'Interest Rate', ax = axes[0])\n",
    "sns.boxplot(cleaned_data, y = 'Interest Rate', ax = axes[1])\n",
    "plt.show()"
   ]
  },
  {
   "cell_type": "markdown",
   "id": "1e4e2f78-ed52-42fc-9877-25f9b537755f",
   "metadata": {},
   "source": [
    "### 失业率"
   ]
  },
  {
   "cell_type": "code",
   "execution_count": 55,
   "id": "0b3a0952-fbd7-4902-b978-1130efc1ba2f",
   "metadata": {},
   "outputs": [
    {
     "data": {
      "image/png": "[encoded data removed]",
      "text/plain": [
       "<Figure size 700x350 with 2 Axes>"
      ]
     },
     "metadata": {},
     "output_type": "display_data"
    }
   ],
   "source": [
    "figure, axes = plt.subplots(1, 2)\n",
    "sns.histplot(cleaned_data, x = 'Jobless Rate', ax = axes[0])\n",
    "sns.boxplot(cleaned_data, y = 'Jobless Rate', ax = axes[1])\n",
    "plt.show()"
   ]
  },
  {
   "cell_type": "markdown",
   "id": "4c8b7b33-6b5d-4b8c-9037-d1c868418f67",
   "metadata": {},
   "source": [
    "### 政府预算"
   ]
  },
  {
   "cell_type": "code",
   "execution_count": 57,
   "id": "bd456257-5dd3-40da-8fb4-b664327454db",
   "metadata": {},
   "outputs": [
    {
     "data": {
      "image/png": "[encoded data removed]",
      "text/plain": [
       "<Figure size 700x350 with 2 Axes>"
      ]
     },
     "metadata": {},
     "output_type": "display_data"
    }
   ],
   "source": [
    "figure, axes = plt.subplots(1, 2)\n",
    "sns.histplot(cleaned_data, x = 'Gov. Budget', ax = axes[0])\n",
    "sns.boxplot(cleaned_data, y = 'Gov. Budget', ax = axes[1])\n",
    "plt.show()"
   ]
  },
  {
   "cell_type": "markdown",
   "id": "5e2be46c-f5f7-408b-8b1b-62d50f5d19fc",
   "metadata": {},
   "source": [
    "### 债务占GDP的比重"
   ]
  },
  {
   "cell_type": "code",
   "execution_count": 59,
   "id": "355660d8-ce56-4644-8b9b-c9a89c931079",
   "metadata": {},
   "outputs": [
    {
     "data": {
      "image/png": "[encoded data removed]",
      "text/plain": [
       "<Figure size 700x350 with 2 Axes>"
      ]
     },
     "metadata": {},
     "output_type": "display_data"
    }
   ],
   "source": [
    "figure, axes = plt.subplots(1, 2)\n",
    "sns.histplot(cleaned_data, x = 'Debt/GDP', ax = axes[0])\n",
    "sns.boxplot(cleaned_data, y = 'Debt/GDP', ax = axes[1])\n",
    "plt.show()"
   ]
  },
  {
   "cell_type": "markdown",
   "id": "86213bb3-1e66-4ff5-a595-9a2bada116fd",
   "metadata": {},
   "source": [
    "### 经常账户"
   ]
  },
  {
   "cell_type": "code",
   "execution_count": 61,
   "id": "295ec3eb-a53d-4c26-bebf-a32910245f5b",
   "metadata": {},
   "outputs": [
    {
     "data": {
      "image/png": "[encoded data removed]",
      "text/plain": [
       "<Figure size 700x350 with 2 Axes>"
      ]
     },
     "metadata": {},
     "output_type": "display_data"
    }
   ],
   "source": [
    "figure, axes = plt.subplots(1, 2)\n",
    "sns.histplot(cleaned_data, x = 'Current Account', ax = axes[0])\n",
    "sns.boxplot(cleaned_data, y = 'Current Account', ax = axes[1])\n",
    "plt.show()"
   ]
  },
  {
   "cell_type": "markdown",
   "id": "b3e29a70-6ccf-4669-9afb-26de0315f0e8",
   "metadata": {},
   "source": [
    "### 人口"
   ]
  },
  {
   "cell_type": "code",
   "execution_count": 63,
   "id": "98a769df-cf4a-4942-baa6-44015c4dc29c",
   "metadata": {},
   "outputs": [
    {
     "data": {
      "image/png": "[encoded data removed]",
      "text/plain": [
       "<Figure size 700x350 with 2 Axes>"
      ]
     },
     "metadata": {},
     "output_type": "display_data"
    }
   ],
   "source": [
    "figure, axes = plt.subplots(1, 2)\n",
    "sns.histplot(cleaned_data, x = 'Population', ax = axes[0])\n",
    "sns.boxplot(cleaned_data, y = 'Population', ax = axes[1])\n",
    "plt.show()"
   ]
  },
  {
   "cell_type": "markdown",
   "id": "4ff931df-867d-4b4c-9235-c175bcaddc14",
   "metadata": {},
   "source": [
    "## 分析数据"
   ]
  },
  {
   "cell_type": "markdown",
   "id": "f2c11d1f-274c-4468-9a43-d537745c8175",
   "metadata": {},
   "source": [
    "### 区域经济增长差异分析​​"
   ]
  },
  {
   "cell_type": "code",
   "execution_count": 66,
   "id": "c10e977c-9f98-4064-91ef-379e3a1fcbf5",
   "metadata": {},
   "outputs": [
    {
     "name": "stdout",
     "output_type": "stream",
     "text": [
      "各大洲关键经济指标均值：\n",
      "          GDP Growth  Jobless Rate  Inflation Rate\n",
      "region                                            \n",
      "Africa          1.62         10.35           12.64\n",
      "Americas        0.51          5.98           11.69\n",
      "Asia            1.55          6.32            6.43\n",
      "Europe          0.44          6.14            3.76\n",
      "Oceania         0.87          5.52            2.10\n"
     ]
    }
   ],
   "source": [
    "regional_stats = cleaned_data.groupby('region')[['GDP Growth', 'Jobless Rate', 'Inflation Rate']].mean()\n",
    "regional_stats = regional_stats.round(2)\n",
    "print(\"各大洲关键经济指标均值：\")\n",
    "print(regional_stats)"
   ]
  },
  {
   "cell_type": "markdown",
   "id": "ea266bc4-e48c-4f74-ad49-19ab1408c8ed",
   "metadata": {},
   "source": [
    "#### 各大洲GDP增长率对比"
   ]
  },
  {
   "cell_type": "code",
   "execution_count": 68,
   "id": "11b78746-74ee-445e-a441-0b3f20348aa7",
   "metadata": {},
   "outputs": [],
   "source": [
    "plt.rcParams['font.sans-serif'] = ['SimHei', 'Microsoft YaHei', 'Noto Sans CJK SC', 'sans-serif']\n",
    "plt.rcParams['axes.unicode_minus'] = False"
   ]
  },
  {
   "cell_type": "code",
   "execution_count": 69,
   "id": "ff762fd0-ead6-45fb-bfd2-691b4b31cba2",
   "metadata": {},
   "outputs": [
    {
     "data": {
      "text/plain": [
       "Text(0.5, 1.0, '各大洲平均通货膨胀率')"
      ]
     },
     "execution_count": 69,
     "metadata": {},
     "output_type": "execute_result"
    },
    {
     "data": {
      "image/png": "[encoded data removed]",
      "text/plain": [
       "<Figure size 700x350 with 3 Axes>"
      ]
     },
     "metadata": {},
     "output_type": "display_data"
    }
   ],
   "source": [
    "#各大洲GDP增长率对比\n",
    "figure, axes = plt.subplots(1, 3)\n",
    "regional_gdp_growth = cleaned_data.groupby('region')['GDP Growth'].mean().sort_values(ascending = False)\n",
    "axes[0].bar(range(len(regional_gdp_growth)), regional_gdp_growth.values)\n",
    "axes[0].set_xticks(range(len(regional_gdp_growth)))\n",
    "axes[0].set_xticklabels(regional_gdp_growth.index, rotation = 45, ha = 'right')\n",
    "axes[0].set_ylabel('平均GDP增长率（%）')\n",
    "axes[0].set_title('各大洲平均GDP增长率')\n",
    "\n",
    "#各大洲失业率对比\n",
    "regional_jobless_rate = cleaned_data.groupby('region')['Jobless Rate'].mean().sort_values(ascending = False)\n",
    "axes[1].bar(range(len(regional_jobless_rate)), regional_jobless_rate.values)\n",
    "axes[1].set_xticks(range(len(regional_jobless_rate)))\n",
    "axes[1].set_xticklabels(regional_jobless_rate.index, rotation = 45, ha = 'right')\n",
    "axes[1].set_ylabel('平均失业率（%）')\n",
    "axes[1].set_title('各大洲平均失业率')\n",
    "\n",
    "#各大洲通货膨胀率对比\n",
    "regional_inflation_rate = cleaned_data.groupby('region')['Inflation Rate'].mean().sort_values(ascending = False)\n",
    "axes[2].bar(range(len(regional_inflation_rate)), regional_inflation_rate.values)\n",
    "axes[2].set_xticks(range(len(regional_inflation_rate)))\n",
    "axes[2].set_xticklabels(regional_inflation_rate.index, rotation = 45, ha = 'right')\n",
    "axes[2].set_ylabel('平均通货膨胀率（%）')\n",
    "axes[2].set_title('各大洲平均通货膨胀率')"
   ]
  },
  {
   "cell_type": "markdown",
   "id": "314ce545-d4e5-4fe5-98a7-89a138202781",
   "metadata": {},
   "source": [
    "根据上图我们可以看出：非洲的平均GDP增长率、平均失业率、平均通货膨胀率都是最高的。这说明非洲国家的经济发展迅速，但是各种经济问题都非常明显，如；失业、通货膨胀。需要制定更加完善且有效的经济政策，来保证经济快速发展的同时，实现经济稳定。\n",
    "\n",
    "亚洲的平均GDP的增长率仅次于非洲，且远高于剩下的大洲。这说明亚洲在全球范围内的经济增长速度仍然非常快，属于正在告诉发展的大洲。且它的失业率远低于非洲，同时通货膨胀率也低于非洲和美洲。这意味着亚洲在保持经济快速增长的同时，也实现了经济的稳定发展。\n",
    "\n",
    "其余的大洋洲、每周和欧洲，均属于GDP增长速度缓慢，但同时失业率和通膨率也相对较低。这是因为这些大洲发展较早，有较多的发达国家。它们已经进入了经济发展的后期阶段，因此经济发展缓慢，但同时社会问题并不突出。"
   ]
  },
  {
   "cell_type": "markdown",
   "id": "735fce9c-0e83-44c2-b74f-a1ee48cdd9e7",
   "metadata": {},
   "source": [
    "#### 高债务国家的经济风险分析"
   ]
  },
  {
   "cell_type": "code",
   "execution_count": 72,
   "id": "a535dc3a-b6bc-474d-bffe-c499fa1a041d",
   "metadata": {},
   "outputs": [
    {
     "name": "stdout",
     "output_type": "stream",
     "text": [
      "债务/GDP超过100%的国家：\n",
      "              name  Debt/GDP  Inflation Rate  Jobless Rate\n",
      "17           Sudan    272.00          146.60         20.80\n",
      "152          Japan    236.70            3.10          2.50\n",
      "109      Singapore    173.10            0.80          2.10\n",
      "120      Venezuela    164.30          172.00          5.50\n",
      "117        Lebanon    164.10           14.30         11.50\n",
      "125        Eritrea    164.00            9.00          5.60\n",
      "38          Greece    153.60            3.10          7.90\n",
      "79           Italy    135.30            1.70          6.30\n",
      "139        Bahrain    134.00           -0.40          6.30\n",
      "4    United States    124.30            2.70          4.20\n",
      "68            Cuba    119.00           14.37          1.50\n",
      "141         France    113.00            1.00          7.50\n",
      "91          Canada    110.80            1.70          6.90\n",
      "74      Cape Verde    109.20            2.70         11.90\n",
      "12          Bhutan    107.78            3.65          3.60\n",
      "24         Belgium    104.70            1.92          6.50\n",
      "27           Spain    101.80            2.70         10.29\n"
     ]
    }
   ],
   "source": [
    "#筛选Debt/GDP超过100%的国家\n",
    "high_debt_countries = cleaned_data[cleaned_data['Debt/GDP'] >100][['name', 'Debt/GDP', 'Inflation Rate', 'Jobless Rate']]\n",
    "high_debt_countries = high_debt_countries.sort_values('Debt/GDP', ascending = False)\n",
    "print(\"债务/GDP超过100%的国家：\")\n",
    "print(high_debt_countries)"
   ]
  },
  {
   "cell_type": "code",
   "execution_count": 73,
   "id": "d7df1ba3-659c-4712-8596-7648b1c05fe7",
   "metadata": {},
   "outputs": [
    {
     "name": "stdout",
     "output_type": "stream",
     "text": [
      "\n",
      "债务率与通膨率的关系系数：0.332\n"
     ]
    },
    {
     "data": {
      "image/png": "[encoded data removed]",
      "text/plain": [
       "<Figure size 1000x600 with 1 Axes>"
      ]
     },
     "metadata": {},
     "output_type": "display_data"
    }
   ],
   "source": [
    "plt.figure(figsize = (10, 6))\n",
    "scatter_data = cleaned_data[['Debt/GDP', 'Inflation Rate']].dropna()\n",
    "plt.scatter(scatter_data['Debt/GDP'], scatter_data['Inflation Rate'], alpha = 0.7)\n",
    "#标记高债务国家\n",
    "high_debt_points = cleaned_data[cleaned_data['Debt/GDP']>100][['Debt/GDP', 'Inflation Rate', 'name']].dropna()\n",
    "for _, row in high_debt_points.iterrows():\n",
    "    plt.annotate(row['name'], (row['Debt/GDP'], row['Inflation Rate']),\n",
    "              xytext = (5, 5), textcoords = 'offset points', fontsize = 8)\n",
    "plt.xlabel('债务/GDP（%）')\n",
    "plt.ylabel('通胀率（%）')\n",
    "plt.title('债务率与通膨率关系图')\n",
    "correlation = scatter_data['Debt/GDP'].corr(scatter_data['Inflation Rate'])\n",
    "print(f\"\\n债务率与通膨率的关系系数：{correlation:.3f}\")"
   ]
  },
  {
   "cell_type": "markdown",
   "id": "656775f8-5b9a-49c8-ae64-58f4d054c43b",
   "metadata": {},
   "source": [
    "#### 货币类型对通货膨胀的影响"
   ]
  },
  {
   "cell_type": "code",
   "execution_count": 75,
   "id": "92f27766-b60d-41ab-9756-e96f51258d93",
   "metadata": {},
   "outputs": [
    {
     "name": "stdout",
     "output_type": "stream",
     "text": [
      "货币类型对通货膨胀的影响：\n",
      "美元化国家平均通膨率：1.120%\n",
      "独立货币国家平均通膨率：8.520%\n",
      "\n",
      "美元化国家示例：\n",
      "              name              currency  Inflation Rate\n",
      "2          Ecuador  United States dollar            0.72\n",
      "3      Puerto Rico  United States dollar            1.20\n",
      "4    United States  United States dollar            2.70\n",
      "142    El Salvador  United States dollar           -0.14\n",
      "\n",
      "独立货币国家示例：\n",
      "              name            currency  Inflation Rate\n",
      "0          Tunisia      Tunisian dinar            5.30\n",
      "1          Vietnam     Vietnamese đồng            3.19\n",
      "5           Israel  Israeli new shekel            3.10\n",
      "6   United Kingdom       British pound            3.80\n",
      "7          Myanmar        Burmese kyat           28.58\n",
      "8           Poland        Polish złoty            3.10\n",
      "9      Afghanistan      Afghan afghani            0.20\n",
      "10           Kenya     Kenyan shilling            4.10\n",
      "11          Angola      Angolan kwanza           19.48\n",
      "12          Bhutan  Bhutanese ngultrum            3.65\n"
     ]
    }
   ],
   "source": [
    "#美元化国家\n",
    "us_dollar_countries = cleaned_data[cleaned_data['currency'].str.contains('United States dollar', case = False, na = False)]\n",
    "independent_curreny_countries = cleaned_data[~cleaned_data['currency'].str.contains('United States dollar', case = False, na = False)]\n",
    "#计算两类国家的平均通膨率\n",
    "us_dollar_inflation = us_dollar_countries['Inflation Rate'].mean()\n",
    "independent_currency_inflation = independent_curreny_countries['Inflation Rate'].mean()\n",
    "print(\"货币类型对通货膨胀的影响：\")\n",
    "print(f\"美元化国家平均通膨率：{us_dollar_inflation:.3f}%\")\n",
    "print(f\"独立货币国家平均通膨率：{independent_currency_inflation:.3f}%\")\n",
    "print(\"\\n美元化国家示例：\")\n",
    "print(us_dollar_countries[['name', 'currency', 'Inflation Rate']])\n",
    "print((\"\\n独立货币国家示例：\"))\n",
    "print(independent_curreny_countries[['name', 'currency', 'Inflation Rate']].head(10))"
   ]
  },
  {
   "cell_type": "code",
   "execution_count": 76,
   "id": "1a52d1cc-ca0f-4e32-91f8-4e8d8547f56d",
   "metadata": {},
   "outputs": [
    {
     "data": {
      "image/png": "[encoded data removed]",
      "text/plain": [
       "<Figure size 800x600 with 1 Axes>"
      ]
     },
     "metadata": {},
     "output_type": "display_data"
    }
   ],
   "source": [
    "#对比图表\n",
    "figure, axes = plt.subplots(figsize = (8, 6))\n",
    "categories = ['美元化国家', '独立货币国家']\n",
    "values = [us_dollar_inflation, independent_currency_inflation]\n",
    "bars = axes.bar(categories, values)\n",
    "for bar, value in zip(bars, values):\n",
    "    axes.text(bar.get_x() + bar.get_width()/2, bar.get_height()+0.5,\n",
    "           f'{value:.2f}%', ha = 'center', va = 'bottom')\n",
    "axes.set_ylabel('平均通膨率（%）')\n",
    "axes.set_title('美元化国家 vs 独立货币国家通胀率对比')\n",
    "plt.tight_layout()"
   ]
  },
  {
   "cell_type": "markdown",
   "id": "192107ed-4845-4dab-bca0-b95b5729eb2e",
   "metadata": {},
   "source": [
    "#### 资源型经济体的困境"
   ]
  },
  {
   "cell_type": "code",
   "execution_count": 78,
   "id": "fc82c165-0e30-4ef4-8d41-c89598551305",
   "metadata": {},
   "outputs": [
    {
     "name": "stdout",
     "output_type": "stream",
     "text": [
      "资源型经济体与非资源型经济体对比：\n",
      "\n",
      "石油输出国平均失业率：8.248%\n",
      "\n",
      "非石油输出国平均失业率：7.291%\n",
      "\n",
      "石油输出国平均政府预算：0.508%\n",
      "\n",
      "非石油输出国平均政府预算：-3.093%\n",
      "\n",
      "石油输出国示例:\n",
      "             name  Jobless Rate  Gov. Budget\n",
      "11         Angola         29.40         -1.5\n",
      "14         Russia          2.20         -1.7\n",
      "16           Iraq         15.50         -1.5\n",
      "43           Iran          7.20         -5.5\n",
      "57        Algeria         11.43         -9.3\n",
      "66         Norway          5.40         13.2\n",
      "71   Saudi Arabia          2.80         -2.8\n",
      "104       Nigeria          4.30         -6.1\n",
      "120     Venezuela          5.50         -3.3\n",
      "130         Libya         18.60          8.5\n",
      "131         Qatar          0.10          0.7\n",
      "160        Kuwait          2.10         21.6\n",
      "167        Mexico          2.70         -5.7\n",
      "\n",
      "非石油国家示例:\n",
      "             name  Jobless Rate  Gov. Budget\n",
      "0         Tunisia         15.70    -6.600000\n",
      "1         Vietnam          2.24    -4.000000\n",
      "2         Ecuador          4.50    -1.900000\n",
      "3     Puerto Rico          5.70    -2.822831\n",
      "4   United States          4.20    -6.400000\n",
      "5          Israel          3.00    -6.800000\n",
      "6  United Kingdom          4.70    -4.800000\n",
      "7         Myanmar          3.00    -5.700000\n",
      "8          Poland          5.20    -6.600000\n",
      "9     Afghanistan         13.30    -4.800000\n"
     ]
    }
   ],
   "source": [
    "#石油输出国\n",
    "oil_producers = ['Angola', 'Iraq', 'Libya', 'Nigeria', 'Venezuela', 'Saudi Arabia', 'Russia', 'Kuwait', 'Qatar', 'UAE', 'Iran', 'Algeria', 'Norway', 'Mexico']\n",
    "oil_countries = cleaned_data[cleaned_data['name'].isin(oil_producers)]\n",
    "non_oil_countries =cleaned_data[~cleaned_data['name'].isin(oil_producers)]\n",
    "oil_jobless = oil_countries['Jobless Rate'].mean()\n",
    "non_oil_jobless = non_oil_countries['Jobless Rate'].mean()\n",
    "oil_budget = oil_countries['Gov. Budget'].mean()\n",
    "non_oil_budget = non_oil_countries['Gov. Budget'].mean()\n",
    "print(\"资源型经济体与非资源型经济体对比：\")\n",
    "print(f\"\\n石油输出国平均失业率：{oil_jobless:.3f}%\")\n",
    "print(f\"\\n非石油输出国平均失业率：{non_oil_jobless:.3f}%\")\n",
    "print(f\"\\n石油输出国平均政府预算：{oil_budget:.3f}%\")\n",
    "print(f\"\\n非石油输出国平均政府预算：{non_oil_budget:.3f}%\")\n",
    "#显示具体的输出国示例\n",
    "print(\"\\n石油输出国示例:\")\n",
    "oil_example = oil_countries[['name', 'Jobless Rate', 'Gov. Budget']].dropna()\n",
    "print(oil_example)\n",
    "\n",
    "print(\"\\n非石油国家示例:\")\n",
    "non_oil_example = non_oil_countries[['name', 'Jobless Rate', 'Gov. Budget']].dropna()\n",
    "print(non_oil_example.head(10))"
   ]
  },
  {
   "cell_type": "code",
   "execution_count": 79,
   "id": "c8a3a545-2cc3-4cf7-8dd2-c001a8b24ba8",
   "metadata": {},
   "outputs": [
    {
     "data": {
      "text/plain": [
       "<function matplotlib.pyplot.tight_layout(*, pad: 'float' = 1.08, h_pad: 'float | None' = None, w_pad: 'float | None' = None, rect: 'tuple[float, float, float, float] | None' = None) -> 'None'>"
      ]
     },
     "execution_count": 79,
     "metadata": {},
     "output_type": "execute_result"
    },
    {
     "data": {
      "image/png": "[encoded data removed]",
      "text/plain": [
       "<Figure size 1200x500 with 2 Axes>"
      ]
     },
     "metadata": {},
     "output_type": "display_data"
    }
   ],
   "source": [
    "#创建对比图表\n",
    "fig, axes = plt.subplots(1, 2, figsize = (12, 5))\n",
    "categories = ['石油输出国', '非石油输出国']\n",
    "#失业率对比\n",
    "jobless_values = [oil_jobless, non_oil_jobless]\n",
    "bars1 = axes[0].bar(categories, jobless_values)\n",
    "for bar, value in zip(bars1, jobless_values):\n",
    "    axes[0].text(bar.get_x() + bar.get_width()/2, bar.get_height() + 0.5, \n",
    "                f'{value:.2f}%', ha='center', va='bottom')\n",
    "axes[0].set_ylabel('平均失业率（%）')\n",
    "axes[0].set_title('石油输出国 vs 非石油输出国失业率对比')\n",
    "#政府预算对比\n",
    "budget_values = [oil_budget, non_oil_budget]\n",
    "bars2 = axes[1].bar(categories, budget_values)\n",
    "for bar, value in zip(bars2, budget_values):\n",
    "    axes[1].text(bar.get_x() + bar.get_width()/2, bar.get_height() + 0.5, \n",
    "                f'{value:.2f}%', ha='center', va='bottom')\n",
    "axes[1].set_ylabel('平均政府预算（%）')\n",
    "axes[1].set_title('石油输出国 vs 非石油输出国政府预算对比')\n",
    "plt.tight_layout"
   ]
  },
  {
   "cell_type": "markdown",
   "id": "a3f2df4d-642c-45a3-a172-fd45d2368d67",
   "metadata": {},
   "source": [
    "#### 汇率制度与国际贸易"
   ]
  },
  {
   "cell_type": "markdown",
   "id": "cd6f972d-4f99-4668-b07a-25eaf3939eea",
   "metadata": {},
   "source": [
    "比较采用浮动汇率制和盯住汇率制国家的经常账户余额"
   ]
  },
  {
   "cell_type": "code",
   "execution_count": 137,
   "id": "654073e2-f1f4-4a43-a622-a7f109e430a4",
   "metadata": {},
   "outputs": [
    {
     "name": "stdout",
     "output_type": "stream",
     "text": [
      "汇率制度与经常账户余额：\n",
      "美元化国家（盯住汇率制度）平均经常账户余额：-0.861%\n",
      "独立货币国家（浮动汇率制度）平均经常账户余额：-0.538%\n",
      "\n",
      "美元化国家（盯住汇率制）：\n",
      "              name              currency  Current Account\n",
      "2          Ecuador  United States dollar         2.800000\n",
      "3      Puerto Rico  United States dollar        -0.545269\n",
      "4    United States  United States dollar        -3.900000\n",
      "142    El Salvador  United States dollar        -1.800000\n",
      "\n",
      "独立货币国家（浮动汇率制）示例：\n",
      "              name            currency  Current Account\n",
      "0          Tunisia      Tunisian dinar             -2.7\n",
      "1          Vietnam     Vietnamese đồng              6.1\n",
      "5           Israel  Israeli new shekel              3.2\n",
      "6   United Kingdom       British pound             -2.7\n",
      "7          Myanmar        Burmese kyat             -5.5\n",
      "8           Poland        Polish złoty              0.0\n",
      "9      Afghanistan      Afghan afghani            -17.3\n",
      "10           Kenya     Kenyan shilling             -3.6\n",
      "11          Angola      Angolan kwanza              5.4\n",
      "12          Bhutan  Bhutanese ngultrum            -21.7\n"
     ]
    }
   ],
   "source": [
    "fixed_exchange_rate_countries = ['Hong Kong', 'Saudi Arabia', 'Qatar', 'UAE', 'Bahrain', 'Brunei', 'Pegged to USD or similar arrangement']\n",
    "pegged_countries = cleaned_data[cleaned_data['currency'].str.contains('United States dollar', case =False, na = False)]\n",
    "floating_countries = cleaned_data[~cleaned_data['currency'].str.contains('United States dollar', case =False, na = False)]\n",
    "pegged_current_account = pegged_countries['Current Account'].mean()\n",
    "floating_current_account = floating_countries['Current Account'].mean()\n",
    "print(\"汇率制度与经常账户余额：\")\n",
    "print(f\"美元化国家（盯住汇率制度）平均经常账户余额：{pegged_current_account:.3f}%\")\n",
    "print(f\"独立货币国家（浮动汇率制度）平均经常账户余额：{floating_current_account:.3f}%\")\n",
    "print(\"\\n美元化国家（盯住汇率制）：\")\n",
    "pegged_example = pegged_countries[['name', 'currency', 'Current Account']]\n",
    "print(pegged_example)\n",
    "print(\"\\n独立货币国家（浮动汇率制）示例：\")\n",
    "floating_example = floating_countries[['name', 'currency', 'Current Account']].head(10)\n",
    "print(floating_example)"
   ]
  },
  {
   "cell_type": "code",
   "execution_count": 141,
   "id": "0f1ad1d8-6e2b-49f1-9040-aa0fd5478638",
   "metadata": {},
   "outputs": [
    {
     "name": "stdout",
     "output_type": "stream",
     "text": [
      "\n",
      "特别案例-香港：经常账户余额11.5%\n",
      "\n",
      "特别案例-南非：经常账户余额-0.6%\n"
     ]
    }
   ],
   "source": [
    "#特别关注香港和南非的对比\n",
    "hong_kong_data = cleaned_data[cleaned_data['name'] == 'Hong Kong'][['name', 'Current Account']].iloc[0] if not cleaned_data[cleaned_data['name'] == 'Hong Kong'].empty else None\n",
    "south_africa_data = cleaned_data[cleaned_data['name'] == 'South Africa'][['name', 'Current Account']].iloc[0] if not cleaned_data[cleaned_data['name'] == 'South Africa'].empty else None\n",
    "if hong_kong_data is not None:\n",
    "    print(f\"\\n特别案例-香港：经常账户余额{hong_kong_data['Current Account']}%\")\n",
    "if south_africa_data is not None:\n",
    "    print(f\"\\n特别案例-南非：经常账户余额{south_africa_data['Current Account']}%\")"
   ]
  },
  {
   "cell_type": "code",
   "execution_count": 157,
   "id": "ce0a7100-e191-48de-ad7e-98345662c624",
   "metadata": {},
   "outputs": [
    {
     "data": {
      "image/png": "[encoded data removed]",
      "text/plain": [
       "<Figure size 800x600 with 1 Axes>"
      ]
     },
     "metadata": {},
     "output_type": "display_data"
    }
   ],
   "source": [
    "figure, axes = plt.subplots(figsize = (8, 6))\n",
    "categories = ['美元化国家\\n（盯住汇率制）', '独立货币国家\\n(浮动汇率制)']\n",
    "values = [pegged_current_account, floating_current_account]\n",
    "bars = axes.bar(categories, values)\n",
    "for bar, value in zip(bars, values):\n",
    "        axes.text(bar.get_x() + bar.get_width()/2, bar.get_height() + 0.5, \n",
    "        f'{value:.2f}%', ha='center', va='bottom')   \n",
    "axes.set_ylabel('平均经常账户余额（% of GDP）')\n",
    "axes.set_title('汇率制度与经常账户余额对比')\n",
    "\n",
    "plt.tight_layout()"
   ]
  },
  {
   "cell_type": "markdown",
   "id": "dac57a02-2e4c-4a8d-bc8f-1cc5ae89eeaf",
   "metadata": {},
   "source": [
    "#### 小国经济生存策略分析"
   ]
  },
  {
   "cell_type": "code",
   "execution_count": 164,
   "id": "e8a824f1-735e-4cbc-bd75-145c9cdaef2c",
   "metadata": {},
   "outputs": [
    {
     "name": "stdout",
     "output_type": "stream",
     "text": [
      "小国经济生存策略分析：\n",
      "人口小于500万的国家平均GDP：$35.204亿\n",
      "\n",
      "小型经济体示例：\n",
      "            name  Population  GDP\n",
      "131        Qatar        3.12  218\n",
      "160       Kuwait        4.79  160\n",
      "3    Puerto Rico        3.20  126\n",
      "126      Croatia        3.86   93\n",
      "95    Luxembourg        0.67   93\n",
      "31        Panama        4.52   86\n",
      "69     Lithuania        2.89   85\n",
      "99       Uruguay        3.57   81\n",
      "35      Slovenia        2.12   72\n",
      "166        Macau        0.69   50\n",
      "139      Bahrain        1.59   48\n",
      "123       Latvia        1.87   44\n",
      "87       Estonia        1.38   43\n",
      "106       Cyprus        0.98   36\n",
      "37       Georgia        3.71   34\n"
     ]
    }
   ],
   "source": [
    "small_countries = cleaned_data[cleaned_data['Population'] < 5]\n",
    "small_countries_avg_gdp = small_countries['GDP'].mean()\n",
    "print(\"小国经济生存策略分析：\")\n",
    "print(f\"人口小于500万的国家平均GDP：${small_countries_avg_gdp:.3f}亿\")\n",
    "print(\"\\n小型经济体示例：\")\n",
    "small_example = small_countries[['name', 'Population', 'GDP']].sort_values('GDP', ascending = False).head(15)\n",
    "print(small_example)"
   ]
  },
  {
   "cell_type": "code",
   "execution_count": null,
   "id": "d3b01723-c813-4923-bc29-ac36089492d7",
   "metadata": {},
   "outputs": [],
   "source": []
  }
 ],
 "metadata": {
  "kernelspec": {
   "display_name": "Python [conda env:base] *",
   "language": "python",
   "name": "conda-base-py"
  },
  "language_info": {
   "codemirror_mode": {
    "name": "ipython",
    "version": 3
   },
   "file_extension": ".py",
   "mimetype": "text/x-python",
   "name": "python",
   "nbconvert_exporter": "python",
   "pygments_lexer": "ipython3",
   "version": "3.12.4"
  }
 },
 "nbformat": 4,
 "nbformat_minor": 5
}
